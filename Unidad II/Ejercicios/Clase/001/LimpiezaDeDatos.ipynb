{
 "cells": [
  {
   "cell_type": "code",
   "execution_count": 1,
   "id": "124f5912-3dce-4a85-8112-50a4f244d5df",
   "metadata": {},
   "outputs": [],
   "source": [
    "import pandas as pd\n",
    "import numpy as np\n",
    "\n",
    "from datetime import date"
   ]
  },
  {
   "cell_type": "code",
   "execution_count": 2,
   "id": "0a37b8d6-4688-438a-9728-30e7eb200faf",
   "metadata": {},
   "outputs": [],
   "source": [
    "df = pd.read_csv(\"fruitvegprices-2017_2022.csv\")"
   ]
  },
  {
   "cell_type": "code",
   "execution_count": 3,
   "id": "09dbf6c2-5631-4eb0-b630-88e916d83c4a",
   "metadata": {},
   "outputs": [],
   "source": [
    "import matplotlib.pyplot as plt\n",
    "import seaborn as sns"
   ]
  },
  {
   "cell_type": "code",
   "execution_count": 4,
   "id": "d2924b71-cbec-4f89-9150-c916100cac2b",
   "metadata": {},
   "outputs": [
    {
     "data": {
      "text/html": [
       "<div>\n",
       "<style scoped>\n",
       "    .dataframe tbody tr th:only-of-type {\n",
       "        vertical-align: middle;\n",
       "    }\n",
       "\n",
       "    .dataframe tbody tr th {\n",
       "        vertical-align: top;\n",
       "    }\n",
       "\n",
       "    .dataframe thead th {\n",
       "        text-align: right;\n",
       "    }\n",
       "</style>\n",
       "<table border=\"1\" class=\"dataframe\">\n",
       "  <thead>\n",
       "    <tr style=\"text-align: right;\">\n",
       "      <th></th>\n",
       "      <th>price</th>\n",
       "    </tr>\n",
       "  </thead>\n",
       "  <tbody>\n",
       "    <tr>\n",
       "      <th>count</th>\n",
       "      <td>9647.000000</td>\n",
       "    </tr>\n",
       "    <tr>\n",
       "      <th>mean</th>\n",
       "      <td>1.528333</td>\n",
       "    </tr>\n",
       "    <tr>\n",
       "      <th>std</th>\n",
       "      <td>1.927865</td>\n",
       "    </tr>\n",
       "    <tr>\n",
       "      <th>min</th>\n",
       "      <td>0.020000</td>\n",
       "    </tr>\n",
       "    <tr>\n",
       "      <th>25%</th>\n",
       "      <td>0.540000</td>\n",
       "    </tr>\n",
       "    <tr>\n",
       "      <th>50%</th>\n",
       "      <td>0.880000</td>\n",
       "    </tr>\n",
       "    <tr>\n",
       "      <th>75%</th>\n",
       "      <td>1.500000</td>\n",
       "    </tr>\n",
       "    <tr>\n",
       "      <th>max</th>\n",
       "      <td>17.600000</td>\n",
       "    </tr>\n",
       "  </tbody>\n",
       "</table>\n",
       "</div>"
      ],
      "text/plain": [
       "             price\n",
       "count  9647.000000\n",
       "mean      1.528333\n",
       "std       1.927865\n",
       "min       0.020000\n",
       "25%       0.540000\n",
       "50%       0.880000\n",
       "75%       1.500000\n",
       "max      17.600000"
      ]
     },
     "execution_count": 4,
     "metadata": {},
     "output_type": "execute_result"
    }
   ],
   "source": [
    "df.describe()"
   ]
  },
  {
   "cell_type": "code",
   "execution_count": 5,
   "id": "e91d55f4-3300-4da9-8147-66240ceb2cd9",
   "metadata": {},
   "outputs": [
    {
     "data": {
      "text/plain": [
       "{'whiskers': [<matplotlib.lines.Line2D at 0x7eff5b197d90>,\n",
       "  <matplotlib.lines.Line2D at 0x7eff5b1b40a0>],\n",
       " 'caps': [<matplotlib.lines.Line2D at 0x7eff5b1b4430>,\n",
       "  <matplotlib.lines.Line2D at 0x7eff5b1b4640>],\n",
       " 'boxes': [<matplotlib.lines.Line2D at 0x7eff5b197ac0>],\n",
       " 'medians': [<matplotlib.lines.Line2D at 0x7eff5b1b4910>],\n",
       " 'fliers': [<matplotlib.lines.Line2D at 0x7eff5b1b4be0>],\n",
       " 'means': []}"
      ]
     },
     "execution_count": 5,
     "metadata": {},
     "output_type": "execute_result"
    },
    {
     "data": {
      "image/png": "[encoded data removed]",
      "text/plain": [
       "<Figure size 432x288 with 1 Axes>"
      ]
     },
     "metadata": {
      "needs_background": "light"
     },
     "output_type": "display_data"
    }
   ],
   "source": [
    "plt.boxplot( df[\"price\"] )"
   ]
  },
  {
   "cell_type": "code",
   "execution_count": 6,
   "id": "eb85570b-1761-4b51-b612-698106548491",
   "metadata": {},
   "outputs": [
    {
     "data": {
      "text/plain": [
       "0.88"
      ]
     },
     "execution_count": 6,
     "metadata": {},
     "output_type": "execute_result"
    }
   ],
   "source": [
    "np.median( df[\"price\"] )"
   ]
  },
  {
   "cell_type": "markdown",
   "id": "fb155340-0f0d-48db-b1a5-d10b7058be61",
   "metadata": {},
   "source": [
    "### EDA = Exploratory Data Analysis"
   ]
  },
  {
   "cell_type": "code",
   "execution_count": 7,
   "id": "d13d94a9-74e6-4cb9-8652-8137320ffe35",
   "metadata": {},
   "outputs": [],
   "source": [
    "df[\"date\"] = pd.to_datetime(df[\"date\"])"
   ]
  },
  {
   "cell_type": "code",
   "execution_count": 8,
   "id": "85ec0d12-3f83-427b-82bb-c3ac879ac39a",
   "metadata": {},
   "outputs": [],
   "source": [
    "df[\"year\"] = df[\"date\"].dt.year"
   ]
  },
  {
   "cell_type": "code",
   "execution_count": 9,
   "id": "8575e471-9032-471d-b8cc-30f621d38928",
   "metadata": {},
   "outputs": [
    {
     "data": {
      "text/plain": [
       "year\n",
       "2018    0.244532\n",
       "2019    0.235410\n",
       "2020    0.224422\n",
       "2021    0.224111\n",
       "2017    0.038872\n",
       "2022    0.032653\n",
       "dtype: float64"
      ]
     },
     "execution_count": 9,
     "metadata": {},
     "output_type": "execute_result"
    }
   ],
   "source": [
    "df.loc[ : , [\"year\"] ].value_counts() / df.shape[0]"
   ]
  },
  {
   "cell_type": "code",
   "execution_count": 10,
   "id": "aee599c4-4259-41a0-92f1-6b50487177cc",
   "metadata": {},
   "outputs": [
    {
     "data": {
      "text/plain": [
       "{'whiskers': [<matplotlib.lines.Line2D at 0x7eff5a9204c0>,\n",
       "  <matplotlib.lines.Line2D at 0x7eff5a920790>],\n",
       " 'caps': [<matplotlib.lines.Line2D at 0x7eff5a920a60>,\n",
       "  <matplotlib.lines.Line2D at 0x7eff5a920d30>],\n",
       " 'boxes': [<matplotlib.lines.Line2D at 0x7eff5a9201f0>],\n",
       " 'medians': [<matplotlib.lines.Line2D at 0x7eff5a8ae040>],\n",
       " 'fliers': [<matplotlib.lines.Line2D at 0x7eff5a8ae310>],\n",
       " 'means': []}"
      ]
     },
     "execution_count": 10,
     "metadata": {},
     "output_type": "execute_result"
    },
    {
     "data": {
      "image/png": "[encoded data removed]",
      "text/plain": [
       "<Figure size 432x288 with 1 Axes>"
      ]
     },
     "metadata": {
      "needs_background": "light"
     },
     "output_type": "display_data"
    }
   ],
   "source": [
    "plt.boxplot(  df.loc[ : , [\"year\"] ].value_counts() )"
   ]
  },
  {
   "cell_type": "code",
   "execution_count": 11,
   "id": "050234bd-dae4-4f73-bea7-5137c0eee447",
   "metadata": {},
   "outputs": [
    {
     "data": {
      "text/plain": [
       "category   \n",
       "vegetable      0.752980\n",
       "fruit          0.206489\n",
       "cut_flowers    0.035451\n",
       "pot_plants     0.005079\n",
       "dtype: float64"
      ]
     },
     "execution_count": 11,
     "metadata": {},
     "output_type": "execute_result"
    }
   ],
   "source": [
    "df.loc[ : , [\"category\"] ].value_counts() / df.shape[0]"
   ]
  },
  {
   "cell_type": "code",
   "execution_count": 12,
   "id": "f0fcc565-1908-4dc8-acd6-7c54559a696f",
   "metadata": {},
   "outputs": [],
   "source": [
    "df = df.loc[ ~df[\"year\"].isin([2017,2022]) , : ]\n",
    "df = df.loc[ df[\"category\"] != \"pot_plants\" , : ]"
   ]
  },
  {
   "cell_type": "code",
   "execution_count": 13,
   "id": "1cb33788-6dbb-4f5e-a63f-437fe9d9963c",
   "metadata": {},
   "outputs": [
    {
     "data": {
      "text/plain": [
       "{'whiskers': [<matplotlib.lines.Line2D at 0x7eff5a89f880>,\n",
       "  <matplotlib.lines.Line2D at 0x7eff5a89fa30>],\n",
       " 'caps': [<matplotlib.lines.Line2D at 0x7eff5a89fd00>,\n",
       "  <matplotlib.lines.Line2D at 0x7eff5a89ffd0>],\n",
       " 'boxes': [<matplotlib.lines.Line2D at 0x7eff5a89f5b0>],\n",
       " 'medians': [<matplotlib.lines.Line2D at 0x7eff5a8302e0>],\n",
       " 'fliers': [<matplotlib.lines.Line2D at 0x7eff5a8305b0>],\n",
       " 'means': []}"
      ]
     },
     "execution_count": 13,
     "metadata": {},
     "output_type": "execute_result"
    },
    {
     "data": {
      "image/png": "[encoded data removed]",
      "text/plain": [
       "<Figure size 432x288 with 1 Axes>"
      ]
     },
     "metadata": {
      "needs_background": "light"
     },
     "output_type": "display_data"
    }
   ],
   "source": [
    "plt.boxplot(  df.loc[ : , [\"year\"] ].value_counts() )"
   ]
  },
  {
   "cell_type": "code",
   "execution_count": 14,
   "id": "e7729002-fc01-455f-b061-a15e79f5f1a4",
   "metadata": {},
   "outputs": [
    {
     "data": {
      "text/plain": [
       "year\n",
       "2018    2321\n",
       "2019    2271\n",
       "2020    2165\n",
       "2021    2162\n",
       "dtype: int64"
      ]
     },
     "execution_count": 14,
     "metadata": {},
     "output_type": "execute_result"
    }
   ],
   "source": [
    "df.loc[ : , [\"year\"] ].value_counts()"
   ]
  },
  {
   "cell_type": "code",
   "execution_count": 15,
   "id": "089a4bb8-c886-4735-bb57-a7c0b08d0120",
   "metadata": {},
   "outputs": [
    {
     "data": {
      "text/plain": [
       "<AxesSubplot:xlabel='year', ylabel='price'>"
      ]
     },
     "execution_count": 15,
     "metadata": {},
     "output_type": "execute_result"
    },
    {
     "data": {
      "image/png": "[encoded data removed]",
      "text/plain": [
       "<Figure size 432x288 with 1 Axes>"
      ]
     },
     "metadata": {
      "needs_background": "light"
     },
     "output_type": "display_data"
    }
   ],
   "source": [
    "sns.boxplot( data=df  , x=\"year\" , y=\"price\" )"
   ]
  },
  {
   "cell_type": "code",
   "execution_count": 16,
   "id": "4f2f95c5-7b83-4fbf-9b52-ba708a197a3a",
   "metadata": {},
   "outputs": [
    {
     "data": {
      "text/plain": [
       "category   \n",
       "vegetable      6785\n",
       "fruit          1838\n",
       "cut_flowers     296\n",
       "dtype: int64"
      ]
     },
     "execution_count": 16,
     "metadata": {},
     "output_type": "execute_result"
    }
   ],
   "source": [
    "df.loc[ : , [\"category\"] ].value_counts()"
   ]
  },
  {
   "cell_type": "code",
   "execution_count": 17,
   "id": "8a030daa-d984-4919-9093-635eb677e5f8",
   "metadata": {},
   "outputs": [
    {
     "data": {
      "text/plain": [
       "<AxesSubplot:xlabel='item', ylabel='price'>"
      ]
     },
     "execution_count": 17,
     "metadata": {},
     "output_type": "execute_result"
    },
    {
     "data": {
      "image/png": "[encoded data removed]",
      "text/plain": [
       "<Figure size 432x288 with 1 Axes>"
      ]
     },
     "metadata": {
      "needs_background": "light"
     },
     "output_type": "display_data"
    }
   ],
   "source": [
    "sns.boxplot( data=df.loc[ (df['category'] == 'cut_flowers') & (df['year'] == 2018) , : ]  , x=\"item\" , y=\"price\" )"
   ]
  },
  {
   "cell_type": "code",
   "execution_count": 18,
   "id": "8f2443b1-40a0-4167-afd8-47cb7e99b8c3",
   "metadata": {},
   "outputs": [
    {
     "data": {
      "text/plain": [
       "<AxesSubplot:xlabel='item', ylabel='price'>"
      ]
     },
     "execution_count": 18,
     "metadata": {},
     "output_type": "execute_result"
    },
    {
     "data": {
      "image/png": "[encoded data removed]",
      "text/plain": [
       "<Figure size 432x288 with 1 Axes>"
      ]
     },
     "metadata": {
      "needs_background": "light"
     },
     "output_type": "display_data"
    }
   ],
   "source": [
    "sns.boxplot( data=df.loc[ (df['category'] == 'cut_flowers') & (df['year'] == 2019) , : ]  , x=\"item\" , y=\"price\" )"
   ]
  },
  {
   "cell_type": "code",
   "execution_count": 19,
   "id": "c4dfcf7b-8a4a-4192-8d54-24ee935a2900",
   "metadata": {},
   "outputs": [
    {
     "data": {
      "text/plain": [
       "<AxesSubplot:xlabel='item', ylabel='price'>"
      ]
     },
     "execution_count": 19,
     "metadata": {},
     "output_type": "execute_result"
    },
    {
     "data": {
      "image/png": "[encoded data removed]",
      "text/plain": [
       "<Figure size 432x288 with 1 Axes>"
      ]
     },
     "metadata": {
      "needs_background": "light"
     },
     "output_type": "display_data"
    }
   ],
   "source": [
    "sns.boxplot( data=df.loc[ (df['category'] == 'cut_flowers') & (df['year'] == 2020) , : ]  , x=\"item\" , y=\"price\" )"
   ]
  },
  {
   "cell_type": "code",
   "execution_count": 20,
   "id": "edd390d7-5018-4160-a4fe-bd3ead6d7a7e",
   "metadata": {},
   "outputs": [
    {
     "data": {
      "text/plain": [
       "<AxesSubplot:xlabel='item', ylabel='price'>"
      ]
     },
     "execution_count": 20,
     "metadata": {},
     "output_type": "execute_result"
    },
    {
     "data": {
      "image/png": "[encoded data removed]",
      "text/plain": [
       "<Figure size 432x288 with 1 Axes>"
      ]
     },
     "metadata": {
      "needs_background": "light"
     },
     "output_type": "display_data"
    }
   ],
   "source": [
    "sns.boxplot( data=df.loc[ (df['category'] == 'cut_flowers') & (df['year'] == 2021) , : ]  , x=\"item\" , y=\"price\" )"
   ]
  },
  {
   "cell_type": "markdown",
   "id": "e2b943d3-eeb7-4b6a-a704-65ab8236d5e4",
   "metadata": {},
   "source": [
    "### Experimento para encontrar valores atipicos"
   ]
  },
  {
   "cell_type": "code",
   "execution_count": 21,
   "id": "599ca1ce-7c5b-4b43-ba82-e30063c88b40",
   "metadata": {},
   "outputs": [],
   "source": [
    "gladioni_2020 = df.loc[ (df['category'] == 'cut_flowers') & (df['year'] == 2020) & (df['item'] == 'gladioli') , ['price'] ]"
   ]
  },
  {
   "cell_type": "code",
   "execution_count": 22,
   "id": "ebd99364-608c-4650-809e-2699d4823d54",
   "metadata": {},
   "outputs": [
    {
     "data": {
      "text/plain": [
       "{'whiskers': [<matplotlib.lines.Line2D at 0x7eff5a4ba190>,\n",
       "  <matplotlib.lines.Line2D at 0x7eff5a4ba460>],\n",
       " 'caps': [<matplotlib.lines.Line2D at 0x7eff5a4ba730>,\n",
       "  <matplotlib.lines.Line2D at 0x7eff5a4baa00>],\n",
       " 'boxes': [<matplotlib.lines.Line2D at 0x7eff5a4ace80>],\n",
       " 'medians': [<matplotlib.lines.Line2D at 0x7eff5a4bacd0>],\n",
       " 'fliers': [<matplotlib.lines.Line2D at 0x7eff5a4bafa0>],\n",
       " 'means': []}"
      ]
     },
     "execution_count": 22,
     "metadata": {},
     "output_type": "execute_result"
    },
    {
     "data": {
      "image/png": "[encoded data removed]",
      "text/plain": [
       "<Figure size 432x288 with 1 Axes>"
      ]
     },
     "metadata": {
      "needs_background": "light"
     },
     "output_type": "display_data"
    }
   ],
   "source": [
    "plt.boxplot(gladioni_2020)"
   ]
  },
  {
   "cell_type": "code",
   "execution_count": 23,
   "id": "d6f72f0e-de46-4cd5-bcf8-9a06cec212f6",
   "metadata": {},
   "outputs": [],
   "source": [
    "q1 = np.quantile( gladioni_2020 , 0.25 )\n",
    "q3 = np.quantile( gladioni_2020 , 0.75 )"
   ]
  },
  {
   "cell_type": "code",
   "execution_count": 24,
   "id": "52bcf1e2-b9f1-40c5-9aa8-bf050a2ee57b",
   "metadata": {},
   "outputs": [
    {
     "data": {
      "text/plain": [
       "0.23"
      ]
     },
     "execution_count": 24,
     "metadata": {},
     "output_type": "execute_result"
    }
   ],
   "source": [
    "q1"
   ]
  },
  {
   "cell_type": "code",
   "execution_count": 25,
   "id": "6bd45993-f58e-44b1-8388-69c634423a7b",
   "metadata": {},
   "outputs": [
    {
     "data": {
      "text/plain": [
       "0.24"
      ]
     },
     "execution_count": 25,
     "metadata": {},
     "output_type": "execute_result"
    }
   ],
   "source": [
    "q3"
   ]
  },
  {
   "cell_type": "code",
   "execution_count": 26,
   "id": "b5c1428e-f793-470e-b0f1-ba75b275aff4",
   "metadata": {},
   "outputs": [
    {
     "data": {
      "text/plain": [
       "0.24"
      ]
     },
     "execution_count": 26,
     "metadata": {},
     "output_type": "execute_result"
    }
   ],
   "source": [
    "np.median( gladioni_2020 )"
   ]
  },
  {
   "cell_type": "code",
   "execution_count": 27,
   "id": "b3d5c753-6559-431a-8ce2-4b1520c8cbda",
   "metadata": {},
   "outputs": [
    {
     "data": {
      "text/plain": [
       "0.24"
      ]
     },
     "execution_count": 27,
     "metadata": {},
     "output_type": "execute_result"
    }
   ],
   "source": [
    "np.quantile( gladioni_2020 , 0.5 )"
   ]
  },
  {
   "cell_type": "code",
   "execution_count": 28,
   "id": "e72f6771-17a9-47b5-9f51-272667cac449",
   "metadata": {},
   "outputs": [],
   "source": [
    "## Inter quartile range\n",
    "iqr = q3 - q1"
   ]
  },
  {
   "cell_type": "code",
   "execution_count": 29,
   "id": "e188a58a-ab00-49a3-9904-ad09776fe00b",
   "metadata": {},
   "outputs": [
    {
     "data": {
      "text/plain": [
       "0.009999999999999981"
      ]
     },
     "execution_count": 29,
     "metadata": {},
     "output_type": "execute_result"
    }
   ],
   "source": [
    "iqr"
   ]
  },
  {
   "cell_type": "code",
   "execution_count": 30,
   "id": "6ae8f254-8779-4ae2-a89f-1b8f41211b61",
   "metadata": {},
   "outputs": [],
   "source": [
    "upper_bound = q3 + (1.5*iqr)\n",
    "lower_bound = q1 - (1.5*iqr)"
   ]
  },
  {
   "cell_type": "code",
   "execution_count": 31,
   "id": "4855a453-330b-4238-9bcb-7d0e838a283a",
   "metadata": {},
   "outputs": [
    {
     "data": {
      "text/plain": [
       "0.25499999999999995"
      ]
     },
     "execution_count": 31,
     "metadata": {},
     "output_type": "execute_result"
    }
   ],
   "source": [
    "upper_bound"
   ]
  },
  {
   "cell_type": "code",
   "execution_count": 32,
   "id": "1d644327-d747-4826-bc81-f8547da5b563",
   "metadata": {},
   "outputs": [
    {
     "data": {
      "text/plain": [
       "0.21500000000000002"
      ]
     },
     "execution_count": 32,
     "metadata": {},
     "output_type": "execute_result"
    }
   ],
   "source": [
    "lower_bound"
   ]
  },
  {
   "cell_type": "code",
   "execution_count": 33,
   "id": "f858c837-56ce-45c7-9618-20258985a9c2",
   "metadata": {},
   "outputs": [
    {
     "data": {
      "text/html": [
       "<div>\n",
       "<style scoped>\n",
       "    .dataframe tbody tr th:only-of-type {\n",
       "        vertical-align: middle;\n",
       "    }\n",
       "\n",
       "    .dataframe tbody tr th {\n",
       "        vertical-align: top;\n",
       "    }\n",
       "\n",
       "    .dataframe thead th {\n",
       "        text-align: right;\n",
       "    }\n",
       "</style>\n",
       "<table border=\"1\" class=\"dataframe\">\n",
       "  <thead>\n",
       "    <tr style=\"text-align: right;\">\n",
       "      <th></th>\n",
       "      <th>price</th>\n",
       "    </tr>\n",
       "  </thead>\n",
       "  <tbody>\n",
       "    <tr>\n",
       "      <th>2701</th>\n",
       "      <td>0.10</td>\n",
       "    </tr>\n",
       "    <tr>\n",
       "      <th>2750</th>\n",
       "      <td>0.11</td>\n",
       "    </tr>\n",
       "    <tr>\n",
       "      <th>2804</th>\n",
       "      <td>0.20</td>\n",
       "    </tr>\n",
       "    <tr>\n",
       "      <th>3037</th>\n",
       "      <td>0.26</td>\n",
       "    </tr>\n",
       "    <tr>\n",
       "      <th>3506</th>\n",
       "      <td>0.26</td>\n",
       "    </tr>\n",
       "    <tr>\n",
       "      <th>3622</th>\n",
       "      <td>0.27</td>\n",
       "    </tr>\n",
       "  </tbody>\n",
       "</table>\n",
       "</div>"
      ],
      "text/plain": [
       "      price\n",
       "2701   0.10\n",
       "2750   0.11\n",
       "2804   0.20\n",
       "3037   0.26\n",
       "3506   0.26\n",
       "3622   0.27"
      ]
     },
     "execution_count": 33,
     "metadata": {},
     "output_type": "execute_result"
    }
   ],
   "source": [
    "gladioni_2020.loc[ (gladioni_2020['price'] > upper_bound) | (gladioni_2020['price'] < lower_bound) , : ]"
   ]
  },
  {
   "cell_type": "markdown",
   "id": "0ef9dd1c-d904-4c97-948b-2efa319516e7",
   "metadata": {},
   "source": [
    "### manera generalizada o automatizada"
   ]
  },
  {
   "cell_type": "code",
   "execution_count": 34,
   "id": "fb409588-9af9-451c-b4bc-56a081c6237d",
   "metadata": {},
   "outputs": [],
   "source": [
    "dfq1 = df.loc[ : , [\"item\",\"year\",\"price\"] ].groupby( [\"item\",\"year\"] , as_index = False ).quantile(0.25)\n",
    "dfq1.columns = [\"item\",\"year\",\"price_q1\"]"
   ]
  },
  {
   "cell_type": "code",
   "execution_count": 35,
   "id": "6c336d67-117f-488b-ae86-70f64a3b85b6",
   "metadata": {},
   "outputs": [],
   "source": [
    "dfq3 =df.loc[ : , [\"item\",\"year\",\"price\"] ].groupby( [\"item\",\"year\"] , as_index = False ).quantile(0.75)\n",
    "dfq3.columns = [\"item\",\"year\",\"price_q3\"]"
   ]
  },
  {
   "cell_type": "code",
   "execution_count": 36,
   "id": "83acbdd2-0f16-4ce9-99b4-1736a60ba4e7",
   "metadata": {},
   "outputs": [],
   "source": [
    "dfq2 =df.loc[ : , [\"item\",\"year\",\"price\"] ].groupby( [\"item\",\"year\"] , as_index = False ).mean()\n",
    "dfq2.columns = [\"item\",\"year\",\"price_q2\"]"
   ]
  },
  {
   "cell_type": "code",
   "execution_count": 37,
   "id": "09406ac6-bb92-44f0-8dc2-45e388cd5652",
   "metadata": {},
   "outputs": [
    {
     "data": {
      "text/html": [
       "<div>\n",
       "<style scoped>\n",
       "    .dataframe tbody tr th:only-of-type {\n",
       "        vertical-align: middle;\n",
       "    }\n",
       "\n",
       "    .dataframe tbody tr th {\n",
       "        vertical-align: top;\n",
       "    }\n",
       "\n",
       "    .dataframe thead th {\n",
       "        text-align: right;\n",
       "    }\n",
       "</style>\n",
       "<table border=\"1\" class=\"dataframe\">\n",
       "  <thead>\n",
       "    <tr style=\"text-align: right;\">\n",
       "      <th></th>\n",
       "      <th>item</th>\n",
       "      <th>year</th>\n",
       "      <th>price_q2</th>\n",
       "    </tr>\n",
       "  </thead>\n",
       "  <tbody>\n",
       "    <tr>\n",
       "      <th>0</th>\n",
       "      <td>alstromeria</td>\n",
       "      <td>2018</td>\n",
       "      <td>0.282200</td>\n",
       "    </tr>\n",
       "    <tr>\n",
       "      <th>1</th>\n",
       "      <td>apples</td>\n",
       "      <td>2018</td>\n",
       "      <td>0.884112</td>\n",
       "    </tr>\n",
       "  </tbody>\n",
       "</table>\n",
       "</div>"
      ],
      "text/plain": [
       "          item  year  price_q2\n",
       "0  alstromeria  2018  0.282200\n",
       "1       apples  2018  0.884112"
      ]
     },
     "execution_count": 37,
     "metadata": {},
     "output_type": "execute_result"
    }
   ],
   "source": [
    "dfq2.head(2)"
   ]
  },
  {
   "cell_type": "code",
   "execution_count": 38,
   "id": "9321fb51-2143-454a-a439-dd1582b8c18c",
   "metadata": {},
   "outputs": [],
   "source": [
    "df_iqr = dfq1.merge( dfq3 , on=[\"item\",\"year\"] , how=\"inner\" ).merge( dfq2 , on=[\"item\",\"year\"] , how=\"inner\" )"
   ]
  },
  {
   "cell_type": "code",
   "execution_count": 39,
   "id": "55b4adbf-5eed-421f-aa64-5dc41fdd330e",
   "metadata": {},
   "outputs": [
    {
     "data": {
      "text/html": [
       "<div>\n",
       "<style scoped>\n",
       "    .dataframe tbody tr th:only-of-type {\n",
       "        vertical-align: middle;\n",
       "    }\n",
       "\n",
       "    .dataframe tbody tr th {\n",
       "        vertical-align: top;\n",
       "    }\n",
       "\n",
       "    .dataframe thead th {\n",
       "        text-align: right;\n",
       "    }\n",
       "</style>\n",
       "<table border=\"1\" class=\"dataframe\">\n",
       "  <thead>\n",
       "    <tr style=\"text-align: right;\">\n",
       "      <th></th>\n",
       "      <th>item</th>\n",
       "      <th>year</th>\n",
       "      <th>price_q1</th>\n",
       "      <th>price_q3</th>\n",
       "      <th>price_q2</th>\n",
       "    </tr>\n",
       "  </thead>\n",
       "  <tbody>\n",
       "    <tr>\n",
       "      <th>0</th>\n",
       "      <td>alstromeria</td>\n",
       "      <td>2018</td>\n",
       "      <td>0.26</td>\n",
       "      <td>0.31</td>\n",
       "      <td>0.282200</td>\n",
       "    </tr>\n",
       "    <tr>\n",
       "      <th>1</th>\n",
       "      <td>apples</td>\n",
       "      <td>2018</td>\n",
       "      <td>0.74</td>\n",
       "      <td>0.93</td>\n",
       "      <td>0.884112</td>\n",
       "    </tr>\n",
       "  </tbody>\n",
       "</table>\n",
       "</div>"
      ],
      "text/plain": [
       "          item  year  price_q1  price_q3  price_q2\n",
       "0  alstromeria  2018      0.26      0.31  0.282200\n",
       "1       apples  2018      0.74      0.93  0.884112"
      ]
     },
     "execution_count": 39,
     "metadata": {},
     "output_type": "execute_result"
    }
   ],
   "source": [
    "df_iqr.head(2)"
   ]
  },
  {
   "cell_type": "code",
   "execution_count": 40,
   "id": "f9abe0ae-bcaa-4288-9cbf-f8050e65d312",
   "metadata": {},
   "outputs": [],
   "source": [
    "df_iqr[\"iqr\"] = df_iqr.apply( lambda r: r[\"price_q3\"] - r[\"price_q1\"] , axis = 1)"
   ]
  },
  {
   "cell_type": "code",
   "execution_count": 41,
   "id": "6b17340d-d1d2-41d5-9070-644871d5b8ad",
   "metadata": {},
   "outputs": [
    {
     "data": {
      "text/html": [
       "<div>\n",
       "<style scoped>\n",
       "    .dataframe tbody tr th:only-of-type {\n",
       "        vertical-align: middle;\n",
       "    }\n",
       "\n",
       "    .dataframe tbody tr th {\n",
       "        vertical-align: top;\n",
       "    }\n",
       "\n",
       "    .dataframe thead th {\n",
       "        text-align: right;\n",
       "    }\n",
       "</style>\n",
       "<table border=\"1\" class=\"dataframe\">\n",
       "  <thead>\n",
       "    <tr style=\"text-align: right;\">\n",
       "      <th></th>\n",
       "      <th>item</th>\n",
       "      <th>year</th>\n",
       "      <th>price_q1</th>\n",
       "      <th>price_q3</th>\n",
       "      <th>price_q2</th>\n",
       "      <th>iqr</th>\n",
       "    </tr>\n",
       "  </thead>\n",
       "  <tbody>\n",
       "    <tr>\n",
       "      <th>0</th>\n",
       "      <td>alstromeria</td>\n",
       "      <td>2018</td>\n",
       "      <td>0.26</td>\n",
       "      <td>0.31</td>\n",
       "      <td>0.282200</td>\n",
       "      <td>0.05</td>\n",
       "    </tr>\n",
       "    <tr>\n",
       "      <th>1</th>\n",
       "      <td>apples</td>\n",
       "      <td>2018</td>\n",
       "      <td>0.74</td>\n",
       "      <td>0.93</td>\n",
       "      <td>0.884112</td>\n",
       "      <td>0.19</td>\n",
       "    </tr>\n",
       "  </tbody>\n",
       "</table>\n",
       "</div>"
      ],
      "text/plain": [
       "          item  year  price_q1  price_q3  price_q2   iqr\n",
       "0  alstromeria  2018      0.26      0.31  0.282200  0.05\n",
       "1       apples  2018      0.74      0.93  0.884112  0.19"
      ]
     },
     "execution_count": 41,
     "metadata": {},
     "output_type": "execute_result"
    }
   ],
   "source": [
    "df_iqr.head(2)"
   ]
  },
  {
   "cell_type": "code",
   "execution_count": 42,
   "id": "3d69a831-41f3-4b63-9798-234b69746d48",
   "metadata": {},
   "outputs": [],
   "source": [
    "df_iqr[\"upper\"] = df_iqr.apply( lambda r: ( r[\"price_q3\"] + 1.5*r[\"iqr\"] ) , axis = 1)\n",
    "df_iqr[\"lower\"] = df_iqr.apply( lambda r: ( r[\"price_q1\"] - 1.5*r[\"iqr\"] ) , axis = 1)"
   ]
  },
  {
   "cell_type": "code",
   "execution_count": 43,
   "id": "4a8fa840-b687-49ca-9e5c-b09c8868fdcc",
   "metadata": {},
   "outputs": [
    {
     "data": {
      "text/html": [
       "<div>\n",
       "<style scoped>\n",
       "    .dataframe tbody tr th:only-of-type {\n",
       "        vertical-align: middle;\n",
       "    }\n",
       "\n",
       "    .dataframe tbody tr th {\n",
       "        vertical-align: top;\n",
       "    }\n",
       "\n",
       "    .dataframe thead th {\n",
       "        text-align: right;\n",
       "    }\n",
       "</style>\n",
       "<table border=\"1\" class=\"dataframe\">\n",
       "  <thead>\n",
       "    <tr style=\"text-align: right;\">\n",
       "      <th></th>\n",
       "      <th>item</th>\n",
       "      <th>year</th>\n",
       "      <th>price_q1</th>\n",
       "      <th>price_q3</th>\n",
       "      <th>price_q2</th>\n",
       "      <th>iqr</th>\n",
       "      <th>upper</th>\n",
       "      <th>lower</th>\n",
       "    </tr>\n",
       "  </thead>\n",
       "  <tbody>\n",
       "    <tr>\n",
       "      <th>0</th>\n",
       "      <td>alstromeria</td>\n",
       "      <td>2018</td>\n",
       "      <td>0.26</td>\n",
       "      <td>0.31</td>\n",
       "      <td>0.282200</td>\n",
       "      <td>0.05</td>\n",
       "      <td>0.385</td>\n",
       "      <td>0.185</td>\n",
       "    </tr>\n",
       "    <tr>\n",
       "      <th>1</th>\n",
       "      <td>apples</td>\n",
       "      <td>2018</td>\n",
       "      <td>0.74</td>\n",
       "      <td>0.93</td>\n",
       "      <td>0.884112</td>\n",
       "      <td>0.19</td>\n",
       "      <td>1.215</td>\n",
       "      <td>0.455</td>\n",
       "    </tr>\n",
       "  </tbody>\n",
       "</table>\n",
       "</div>"
      ],
      "text/plain": [
       "          item  year  price_q1  price_q3  price_q2   iqr  upper  lower\n",
       "0  alstromeria  2018      0.26      0.31  0.282200  0.05  0.385  0.185\n",
       "1       apples  2018      0.74      0.93  0.884112  0.19  1.215  0.455"
      ]
     },
     "execution_count": 43,
     "metadata": {},
     "output_type": "execute_result"
    }
   ],
   "source": [
    "df_iqr.head(2)"
   ]
  },
  {
   "cell_type": "code",
   "execution_count": 44,
   "id": "f7ed5f0e-a754-487f-a987-e177c0c5c78a",
   "metadata": {},
   "outputs": [
    {
     "data": {
      "text/plain": [
       "(8919, 7)"
      ]
     },
     "execution_count": 44,
     "metadata": {},
     "output_type": "execute_result"
    }
   ],
   "source": [
    "df.shape"
   ]
  },
  {
   "cell_type": "code",
   "execution_count": 45,
   "id": "96f85b36-86b2-469c-90fd-c5e3b8bb9133",
   "metadata": {},
   "outputs": [],
   "source": [
    "df_t = df.merge( df_iqr , on=[\"item\",\"year\"] , how=\"left\" ).copy()"
   ]
  },
  {
   "cell_type": "code",
   "execution_count": 46,
   "id": "269e214b-a58e-40f2-9916-11316925e9c7",
   "metadata": {},
   "outputs": [
    {
     "data": {
      "text/plain": [
       "(8919, 13)"
      ]
     },
     "execution_count": 46,
     "metadata": {},
     "output_type": "execute_result"
    }
   ],
   "source": [
    "df_t.shape"
   ]
  },
  {
   "cell_type": "code",
   "execution_count": 47,
   "id": "f2cd7cdb-4743-4f0c-b846-7a0e0efd23f6",
   "metadata": {},
   "outputs": [
    {
     "data": {
      "text/html": [
       "<div>\n",
       "<style scoped>\n",
       "    .dataframe tbody tr th:only-of-type {\n",
       "        vertical-align: middle;\n",
       "    }\n",
       "\n",
       "    .dataframe tbody tr th {\n",
       "        vertical-align: top;\n",
       "    }\n",
       "\n",
       "    .dataframe thead th {\n",
       "        text-align: right;\n",
       "    }\n",
       "</style>\n",
       "<table border=\"1\" class=\"dataframe\">\n",
       "  <thead>\n",
       "    <tr style=\"text-align: right;\">\n",
       "      <th></th>\n",
       "      <th>category</th>\n",
       "      <th>item</th>\n",
       "      <th>variety</th>\n",
       "      <th>date</th>\n",
       "      <th>price</th>\n",
       "      <th>unit</th>\n",
       "      <th>year</th>\n",
       "      <th>price_q1</th>\n",
       "      <th>price_q3</th>\n",
       "      <th>price_q2</th>\n",
       "      <th>iqr</th>\n",
       "      <th>upper</th>\n",
       "      <th>lower</th>\n",
       "    </tr>\n",
       "  </thead>\n",
       "  <tbody>\n",
       "    <tr>\n",
       "      <th>0</th>\n",
       "      <td>fruit</td>\n",
       "      <td>apples</td>\n",
       "      <td>bramleys_seedling</td>\n",
       "      <td>2021-12-17</td>\n",
       "      <td>1.69</td>\n",
       "      <td>kg</td>\n",
       "      <td>2021</td>\n",
       "      <td>0.96</td>\n",
       "      <td>1.2300</td>\n",
       "      <td>1.106423</td>\n",
       "      <td>0.2700</td>\n",
       "      <td>1.63500</td>\n",
       "      <td>0.55500</td>\n",
       "    </tr>\n",
       "    <tr>\n",
       "      <th>1</th>\n",
       "      <td>fruit</td>\n",
       "      <td>apples</td>\n",
       "      <td>coxs_orange_group</td>\n",
       "      <td>2021-12-17</td>\n",
       "      <td>0.97</td>\n",
       "      <td>kg</td>\n",
       "      <td>2021</td>\n",
       "      <td>0.96</td>\n",
       "      <td>1.2300</td>\n",
       "      <td>1.106423</td>\n",
       "      <td>0.2700</td>\n",
       "      <td>1.63500</td>\n",
       "      <td>0.55500</td>\n",
       "    </tr>\n",
       "    <tr>\n",
       "      <th>2</th>\n",
       "      <td>fruit</td>\n",
       "      <td>apples</td>\n",
       "      <td>egremont_russet</td>\n",
       "      <td>2021-12-17</td>\n",
       "      <td>1.06</td>\n",
       "      <td>kg</td>\n",
       "      <td>2021</td>\n",
       "      <td>0.96</td>\n",
       "      <td>1.2300</td>\n",
       "      <td>1.106423</td>\n",
       "      <td>0.2700</td>\n",
       "      <td>1.63500</td>\n",
       "      <td>0.55500</td>\n",
       "    </tr>\n",
       "    <tr>\n",
       "      <th>3</th>\n",
       "      <td>fruit</td>\n",
       "      <td>apples</td>\n",
       "      <td>braeburn</td>\n",
       "      <td>2021-12-17</td>\n",
       "      <td>0.84</td>\n",
       "      <td>kg</td>\n",
       "      <td>2021</td>\n",
       "      <td>0.96</td>\n",
       "      <td>1.2300</td>\n",
       "      <td>1.106423</td>\n",
       "      <td>0.2700</td>\n",
       "      <td>1.63500</td>\n",
       "      <td>0.55500</td>\n",
       "    </tr>\n",
       "    <tr>\n",
       "      <th>4</th>\n",
       "      <td>fruit</td>\n",
       "      <td>apples</td>\n",
       "      <td>gala</td>\n",
       "      <td>2021-12-17</td>\n",
       "      <td>0.94</td>\n",
       "      <td>kg</td>\n",
       "      <td>2021</td>\n",
       "      <td>0.96</td>\n",
       "      <td>1.2300</td>\n",
       "      <td>1.106423</td>\n",
       "      <td>0.2700</td>\n",
       "      <td>1.63500</td>\n",
       "      <td>0.55500</td>\n",
       "    </tr>\n",
       "    <tr>\n",
       "      <th>...</th>\n",
       "      <td>...</td>\n",
       "      <td>...</td>\n",
       "      <td>...</td>\n",
       "      <td>...</td>\n",
       "      <td>...</td>\n",
       "      <td>...</td>\n",
       "      <td>...</td>\n",
       "      <td>...</td>\n",
       "      <td>...</td>\n",
       "      <td>...</td>\n",
       "      <td>...</td>\n",
       "      <td>...</td>\n",
       "      <td>...</td>\n",
       "    </tr>\n",
       "    <tr>\n",
       "      <th>8914</th>\n",
       "      <td>cut_flowers</td>\n",
       "      <td>alstromeria</td>\n",
       "      <td>indoor</td>\n",
       "      <td>2018-01-12</td>\n",
       "      <td>0.29</td>\n",
       "      <td>stem</td>\n",
       "      <td>2018</td>\n",
       "      <td>0.26</td>\n",
       "      <td>0.3100</td>\n",
       "      <td>0.282200</td>\n",
       "      <td>0.0500</td>\n",
       "      <td>0.38500</td>\n",
       "      <td>0.18500</td>\n",
       "    </tr>\n",
       "    <tr>\n",
       "      <th>8915</th>\n",
       "      <td>cut_flowers</td>\n",
       "      <td>lillies</td>\n",
       "      <td>oriental</td>\n",
       "      <td>2018-01-12</td>\n",
       "      <td>0.83</td>\n",
       "      <td>stem</td>\n",
       "      <td>2018</td>\n",
       "      <td>0.64</td>\n",
       "      <td>0.7425</td>\n",
       "      <td>0.690000</td>\n",
       "      <td>0.1025</td>\n",
       "      <td>0.89625</td>\n",
       "      <td>0.48625</td>\n",
       "    </tr>\n",
       "    <tr>\n",
       "      <th>8916</th>\n",
       "      <td>cut_flowers</td>\n",
       "      <td>narcissus</td>\n",
       "      <td>indoor</td>\n",
       "      <td>2018-01-12</td>\n",
       "      <td>0.06</td>\n",
       "      <td>stem</td>\n",
       "      <td>2018</td>\n",
       "      <td>0.04</td>\n",
       "      <td>0.0700</td>\n",
       "      <td>0.052162</td>\n",
       "      <td>0.0300</td>\n",
       "      <td>0.11500</td>\n",
       "      <td>-0.00500</td>\n",
       "    </tr>\n",
       "    <tr>\n",
       "      <th>8917</th>\n",
       "      <td>cut_flowers</td>\n",
       "      <td>narcissus</td>\n",
       "      <td>outdoor</td>\n",
       "      <td>2018-01-12</td>\n",
       "      <td>0.05</td>\n",
       "      <td>stem</td>\n",
       "      <td>2018</td>\n",
       "      <td>0.04</td>\n",
       "      <td>0.0700</td>\n",
       "      <td>0.052162</td>\n",
       "      <td>0.0300</td>\n",
       "      <td>0.11500</td>\n",
       "      <td>-0.00500</td>\n",
       "    </tr>\n",
       "    <tr>\n",
       "      <th>8918</th>\n",
       "      <td>cut_flowers</td>\n",
       "      <td>tulips</td>\n",
       "      <td>tulips</td>\n",
       "      <td>2018-01-12</td>\n",
       "      <td>0.19</td>\n",
       "      <td>stem</td>\n",
       "      <td>2018</td>\n",
       "      <td>0.17</td>\n",
       "      <td>0.2050</td>\n",
       "      <td>0.186087</td>\n",
       "      <td>0.0350</td>\n",
       "      <td>0.25750</td>\n",
       "      <td>0.11750</td>\n",
       "    </tr>\n",
       "  </tbody>\n",
       "</table>\n",
       "<p>8919 rows × 13 columns</p>\n",
       "</div>"
      ],
      "text/plain": [
       "         category         item            variety       date  price  unit  \\\n",
       "0           fruit       apples  bramleys_seedling 2021-12-17   1.69    kg   \n",
       "1           fruit       apples  coxs_orange_group 2021-12-17   0.97    kg   \n",
       "2           fruit       apples    egremont_russet 2021-12-17   1.06    kg   \n",
       "3           fruit       apples           braeburn 2021-12-17   0.84    kg   \n",
       "4           fruit       apples               gala 2021-12-17   0.94    kg   \n",
       "...           ...          ...                ...        ...    ...   ...   \n",
       "8914  cut_flowers  alstromeria             indoor 2018-01-12   0.29  stem   \n",
       "8915  cut_flowers      lillies           oriental 2018-01-12   0.83  stem   \n",
       "8916  cut_flowers    narcissus             indoor 2018-01-12   0.06  stem   \n",
       "8917  cut_flowers    narcissus            outdoor 2018-01-12   0.05  stem   \n",
       "8918  cut_flowers       tulips             tulips 2018-01-12   0.19  stem   \n",
       "\n",
       "      year  price_q1  price_q3  price_q2     iqr    upper    lower  \n",
       "0     2021      0.96    1.2300  1.106423  0.2700  1.63500  0.55500  \n",
       "1     2021      0.96    1.2300  1.106423  0.2700  1.63500  0.55500  \n",
       "2     2021      0.96    1.2300  1.106423  0.2700  1.63500  0.55500  \n",
       "3     2021      0.96    1.2300  1.106423  0.2700  1.63500  0.55500  \n",
       "4     2021      0.96    1.2300  1.106423  0.2700  1.63500  0.55500  \n",
       "...    ...       ...       ...       ...     ...      ...      ...  \n",
       "8914  2018      0.26    0.3100  0.282200  0.0500  0.38500  0.18500  \n",
       "8915  2018      0.64    0.7425  0.690000  0.1025  0.89625  0.48625  \n",
       "8916  2018      0.04    0.0700  0.052162  0.0300  0.11500 -0.00500  \n",
       "8917  2018      0.04    0.0700  0.052162  0.0300  0.11500 -0.00500  \n",
       "8918  2018      0.17    0.2050  0.186087  0.0350  0.25750  0.11750  \n",
       "\n",
       "[8919 rows x 13 columns]"
      ]
     },
     "execution_count": 47,
     "metadata": {},
     "output_type": "execute_result"
    }
   ],
   "source": [
    "df_t"
   ]
  },
  {
   "cell_type": "code",
   "execution_count": 48,
   "id": "69d4d923-970d-4f01-9f47-dd43dcbb28bb",
   "metadata": {},
   "outputs": [],
   "source": [
    "def getRealPrice(r):\n",
    "    if ( r[\"price\"] <= r[\"lower\"] ) | ( r[\"price\"] >= r[\"upper\"] ):\n",
    "        return r[\"price_q2\"]\n",
    "    else:\n",
    "        return r[\"price\"]"
   ]
  },
  {
   "cell_type": "code",
   "execution_count": 49,
   "id": "f2a19413-48a6-4a08-baaf-2449683133ae",
   "metadata": {},
   "outputs": [
    {
     "data": {
      "text/plain": [
       "0       1.106423\n",
       "1       0.970000\n",
       "2       1.060000\n",
       "3       0.840000\n",
       "4       0.940000\n",
       "          ...   \n",
       "8914    0.290000\n",
       "8915    0.830000\n",
       "8916    0.060000\n",
       "8917    0.050000\n",
       "8918    0.190000\n",
       "Length: 8919, dtype: float64"
      ]
     },
     "execution_count": 49,
     "metadata": {},
     "output_type": "execute_result"
    }
   ],
   "source": [
    "df_t.apply( lambda r: getRealPrice(r) , axis = 1 )"
   ]
  },
  {
   "cell_type": "code",
   "execution_count": 50,
   "id": "9bed5e82-8c49-44f3-ba66-62d545d08d9d",
   "metadata": {},
   "outputs": [],
   "source": [
    "df_t[\"new_price\"] = df_t.apply( lambda r: getRealPrice(r) , axis = 1 )"
   ]
  },
  {
   "cell_type": "code",
   "execution_count": 51,
   "id": "d2b6ced8-e72a-451a-8238-be4a1c148bbd",
   "metadata": {},
   "outputs": [
    {
     "data": {
      "text/html": [
       "<div>\n",
       "<style scoped>\n",
       "    .dataframe tbody tr th:only-of-type {\n",
       "        vertical-align: middle;\n",
       "    }\n",
       "\n",
       "    .dataframe tbody tr th {\n",
       "        vertical-align: top;\n",
       "    }\n",
       "\n",
       "    .dataframe thead th {\n",
       "        text-align: right;\n",
       "    }\n",
       "</style>\n",
       "<table border=\"1\" class=\"dataframe\">\n",
       "  <thead>\n",
       "    <tr style=\"text-align: right;\">\n",
       "      <th></th>\n",
       "      <th>category</th>\n",
       "      <th>item</th>\n",
       "      <th>variety</th>\n",
       "      <th>date</th>\n",
       "      <th>price</th>\n",
       "      <th>unit</th>\n",
       "      <th>year</th>\n",
       "      <th>price_q1</th>\n",
       "      <th>price_q3</th>\n",
       "      <th>price_q2</th>\n",
       "      <th>iqr</th>\n",
       "      <th>upper</th>\n",
       "      <th>lower</th>\n",
       "      <th>new_price</th>\n",
       "    </tr>\n",
       "  </thead>\n",
       "  <tbody>\n",
       "    <tr>\n",
       "      <th>0</th>\n",
       "      <td>fruit</td>\n",
       "      <td>apples</td>\n",
       "      <td>bramleys_seedling</td>\n",
       "      <td>2021-12-17</td>\n",
       "      <td>1.69</td>\n",
       "      <td>kg</td>\n",
       "      <td>2021</td>\n",
       "      <td>0.96</td>\n",
       "      <td>1.23</td>\n",
       "      <td>1.106423</td>\n",
       "      <td>0.27</td>\n",
       "      <td>1.635</td>\n",
       "      <td>0.555</td>\n",
       "      <td>1.106423</td>\n",
       "    </tr>\n",
       "    <tr>\n",
       "      <th>1</th>\n",
       "      <td>fruit</td>\n",
       "      <td>apples</td>\n",
       "      <td>coxs_orange_group</td>\n",
       "      <td>2021-12-17</td>\n",
       "      <td>0.97</td>\n",
       "      <td>kg</td>\n",
       "      <td>2021</td>\n",
       "      <td>0.96</td>\n",
       "      <td>1.23</td>\n",
       "      <td>1.106423</td>\n",
       "      <td>0.27</td>\n",
       "      <td>1.635</td>\n",
       "      <td>0.555</td>\n",
       "      <td>0.970000</td>\n",
       "    </tr>\n",
       "    <tr>\n",
       "      <th>2</th>\n",
       "      <td>fruit</td>\n",
       "      <td>apples</td>\n",
       "      <td>egremont_russet</td>\n",
       "      <td>2021-12-17</td>\n",
       "      <td>1.06</td>\n",
       "      <td>kg</td>\n",
       "      <td>2021</td>\n",
       "      <td>0.96</td>\n",
       "      <td>1.23</td>\n",
       "      <td>1.106423</td>\n",
       "      <td>0.27</td>\n",
       "      <td>1.635</td>\n",
       "      <td>0.555</td>\n",
       "      <td>1.060000</td>\n",
       "    </tr>\n",
       "    <tr>\n",
       "      <th>3</th>\n",
       "      <td>fruit</td>\n",
       "      <td>apples</td>\n",
       "      <td>braeburn</td>\n",
       "      <td>2021-12-17</td>\n",
       "      <td>0.84</td>\n",
       "      <td>kg</td>\n",
       "      <td>2021</td>\n",
       "      <td>0.96</td>\n",
       "      <td>1.23</td>\n",
       "      <td>1.106423</td>\n",
       "      <td>0.27</td>\n",
       "      <td>1.635</td>\n",
       "      <td>0.555</td>\n",
       "      <td>0.840000</td>\n",
       "    </tr>\n",
       "    <tr>\n",
       "      <th>4</th>\n",
       "      <td>fruit</td>\n",
       "      <td>apples</td>\n",
       "      <td>gala</td>\n",
       "      <td>2021-12-17</td>\n",
       "      <td>0.94</td>\n",
       "      <td>kg</td>\n",
       "      <td>2021</td>\n",
       "      <td>0.96</td>\n",
       "      <td>1.23</td>\n",
       "      <td>1.106423</td>\n",
       "      <td>0.27</td>\n",
       "      <td>1.635</td>\n",
       "      <td>0.555</td>\n",
       "      <td>0.940000</td>\n",
       "    </tr>\n",
       "  </tbody>\n",
       "</table>\n",
       "</div>"
      ],
      "text/plain": [
       "  category    item            variety       date  price unit  year  price_q1  \\\n",
       "0    fruit  apples  bramleys_seedling 2021-12-17   1.69   kg  2021      0.96   \n",
       "1    fruit  apples  coxs_orange_group 2021-12-17   0.97   kg  2021      0.96   \n",
       "2    fruit  apples    egremont_russet 2021-12-17   1.06   kg  2021      0.96   \n",
       "3    fruit  apples           braeburn 2021-12-17   0.84   kg  2021      0.96   \n",
       "4    fruit  apples               gala 2021-12-17   0.94   kg  2021      0.96   \n",
       "\n",
       "   price_q3  price_q2   iqr  upper  lower  new_price  \n",
       "0      1.23  1.106423  0.27  1.635  0.555   1.106423  \n",
       "1      1.23  1.106423  0.27  1.635  0.555   0.970000  \n",
       "2      1.23  1.106423  0.27  1.635  0.555   1.060000  \n",
       "3      1.23  1.106423  0.27  1.635  0.555   0.840000  \n",
       "4      1.23  1.106423  0.27  1.635  0.555   0.940000  "
      ]
     },
     "execution_count": 51,
     "metadata": {},
     "output_type": "execute_result"
    }
   ],
   "source": [
    "df_t.head(5)"
   ]
  },
  {
   "cell_type": "code",
   "execution_count": 52,
   "id": "e01ab75c-73e6-4acc-af8e-e3230168110a",
   "metadata": {},
   "outputs": [
    {
     "data": {
      "text/plain": [
       "<AxesSubplot:xlabel='item', ylabel='new_price'>"
      ]
     },
     "execution_count": 52,
     "metadata": {},
     "output_type": "execute_result"
    },
    {
     "data": {
      "image/png": "[encoded data removed]",
      "text/plain": [
       "<Figure size 432x288 with 1 Axes>"
      ]
     },
     "metadata": {
      "needs_background": "light"
     },
     "output_type": "display_data"
    }
   ],
   "source": [
    "sns.boxplot( data=df_t.loc[ (df_t['category'] == 'cut_flowers') & (df_t['year'] == 2020) , : ]  , x=\"item\" , y=\"new_price\" )"
   ]
  },
  {
   "cell_type": "code",
   "execution_count": 53,
   "id": "bb6cdfac-3c17-45d0-9d07-964dd5cf64a9",
   "metadata": {},
   "outputs": [
    {
     "data": {
      "text/plain": [
       "<AxesSubplot:xlabel='item', ylabel='price'>"
      ]
     },
     "execution_count": 53,
     "metadata": {},
     "output_type": "execute_result"
    },
    {
     "data": {
      "image/png": "[encoded data removed]",
      "text/plain": [
       "<Figure size 432x288 with 1 Axes>"
      ]
     },
     "metadata": {
      "needs_background": "light"
     },
     "output_type": "display_data"
    }
   ],
   "source": [
    "sns.boxplot( data=df.loc[ (df['category'] == 'cut_flowers') & (df['year'] == 2020) , : ]  , x=\"item\" , y=\"price\" )"
   ]
  },
  {
   "cell_type": "code",
   "execution_count": 55,
   "id": "fb3ac749-35e0-4e68-bb31-6d95d2ba874f",
   "metadata": {},
   "outputs": [
    {
     "data": {
      "text/plain": [
       "<AxesSubplot:xlabel='item', ylabel='new_price'>"
      ]
     },
     "execution_count": 55,
     "metadata": {},
     "output_type": "execute_result"
    },
    {
     "data": {
      "image/png": "[encoded data removed]",
      "text/plain": [
       "<Figure size 432x288 with 1 Axes>"
      ]
     },
     "metadata": {
      "needs_background": "light"
     },
     "output_type": "display_data"
    }
   ],
   "source": [
    "sns.boxplot( data=df_t.loc[ (df_t['category'] == 'fruit') & (df_t['year'] == 2020) , : ]  , x=\"item\" , y=\"new_price\" )"
   ]
  },
  {
   "cell_type": "code",
   "execution_count": 56,
   "id": "b2d39f1d-3ad9-4001-8301-65d90f242703",
   "metadata": {},
   "outputs": [
    {
     "data": {
      "text/plain": [
       "<AxesSubplot:xlabel='item', ylabel='new_price'>"
      ]
     },
     "execution_count": 56,
     "metadata": {},
     "output_type": "execute_result"
    },
    {
     "data": {
      "image/png": "[encoded data removed]",
      "text/plain": [
       "<Figure size 432x288 with 1 Axes>"
      ]
     },
     "metadata": {
      "needs_background": "light"
     },
     "output_type": "display_data"
    }
   ],
   "source": [
    "sns.boxplot( data=df_t.loc[ (df_t['category'] == 'fruit') & (df_t['item'] == 'strawberries') & (df_t['year'] == 2020) , : ]  , x=\"item\" , y=\"new_price\" )"
   ]
  }
 ],
 "metadata": {
  "kernelspec": {
   "display_name": "Python 3 (ipykernel)",
   "language": "python",
   "name": "python3"
  },
  "language_info": {
   "codemirror_mode": {
    "name": "ipython",
    "version": 3
   },
   "file_extension": ".py",
   "mimetype": "text/x-python",
   "name": "python",
   "nbconvert_exporter": "python",
   "pygments_lexer": "ipython3",
   "version": "3.9.12"
  }
 },
 "nbformat": 4,
 "nbformat_minor": 5
}
