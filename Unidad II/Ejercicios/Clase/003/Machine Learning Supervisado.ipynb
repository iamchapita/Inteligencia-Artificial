{
 "cells": [
  {
   "cell_type": "markdown",
   "id": "0282bd67-45d4-41e5-a3bb-f3eb42f1eacf",
   "metadata": {},
   "source": [
    "# Machine Learning Supervisado"
   ]
  },
  {
   "cell_type": "markdown",
   "id": "91a7bc14-9697-4306-b18e-797a91bbc6ca",
   "metadata": {},
   "source": [
    "## Importando Librerías"
   ]
  },
  {
   "cell_type": "code",
   "execution_count": 1,
   "id": "ede5f182-ed05-464f-aee3-e50822702164",
   "metadata": {},
   "outputs": [],
   "source": [
    "import pandas as pd\n",
    "import numpy as np\n",
    "import seaborn as sns\n",
    "from sklearn.model_selection import train_test_split\n",
    "from sklearn.linear_model import LinearRegression\n",
    "import matplotlib.pyplot as plt"
   ]
  },
  {
   "cell_type": "code",
   "execution_count": 2,
   "id": "c633cde1-2c66-4941-92b1-604d6455d3e1",
   "metadata": {},
   "outputs": [],
   "source": [
    "data = pd.read_csv('salarios.csv')"
   ]
  },
  {
   "cell_type": "code",
   "execution_count": 3,
   "id": "1c62ff60-f7e9-4abe-b27b-8ab03ce3e0f7",
   "metadata": {},
   "outputs": [
    {
     "data": {
      "text/html": [
       "<div>\n",
       "<style scoped>\n",
       "    .dataframe tbody tr th:only-of-type {\n",
       "        vertical-align: middle;\n",
       "    }\n",
       "\n",
       "    .dataframe tbody tr th {\n",
       "        vertical-align: top;\n",
       "    }\n",
       "\n",
       "    .dataframe thead th {\n",
       "        text-align: right;\n",
       "    }\n",
       "</style>\n",
       "<table border=\"1\" class=\"dataframe\">\n",
       "  <thead>\n",
       "    <tr style=\"text-align: right;\">\n",
       "      <th></th>\n",
       "      <th>Aexperiencia</th>\n",
       "      <th>Salario</th>\n",
       "    </tr>\n",
       "  </thead>\n",
       "  <tbody>\n",
       "    <tr>\n",
       "      <th>0</th>\n",
       "      <td>10.0</td>\n",
       "      <td>42500</td>\n",
       "    </tr>\n",
       "    <tr>\n",
       "      <th>1</th>\n",
       "      <td>8.0</td>\n",
       "      <td>36302</td>\n",
       "    </tr>\n",
       "    <tr>\n",
       "      <th>2</th>\n",
       "      <td>5.4</td>\n",
       "      <td>35000</td>\n",
       "    </tr>\n",
       "    <tr>\n",
       "      <th>3</th>\n",
       "      <td>2.5</td>\n",
       "      <td>18103</td>\n",
       "    </tr>\n",
       "    <tr>\n",
       "      <th>4</th>\n",
       "      <td>1.0</td>\n",
       "      <td>15000</td>\n",
       "    </tr>\n",
       "  </tbody>\n",
       "</table>\n",
       "</div>"
      ],
      "text/plain": [
       "   Aexperiencia  Salario\n",
       "0          10.0    42500\n",
       "1           8.0    36302\n",
       "2           5.4    35000\n",
       "3           2.5    18103\n",
       "4           1.0    15000"
      ]
     },
     "execution_count": 3,
     "metadata": {},
     "output_type": "execute_result"
    }
   ],
   "source": [
    "data.head()"
   ]
  },
  {
   "cell_type": "code",
   "execution_count": 4,
   "id": "88cc4694-d085-4c31-be39-293d78d29c6f",
   "metadata": {},
   "outputs": [
    {
     "data": {
      "text/plain": [
       "(30, 2)"
      ]
     },
     "execution_count": 4,
     "metadata": {},
     "output_type": "execute_result"
    }
   ],
   "source": [
    "data.shape"
   ]
  },
  {
   "cell_type": "markdown",
   "id": "4aa1980d-6f57-4437-af88-4818958f4ea2",
   "metadata": {},
   "source": [
    "*Obtenemos un arreglo que va a representar la variable dependiente (y) y la variable independiente (x)*"
   ]
  },
  {
   "cell_type": "code",
   "execution_count": 5,
   "id": "0c13e16a-8e80-418e-9944-0c3065172634",
   "metadata": {},
   "outputs": [],
   "source": [
    "x = data.loc[:, 'Aexperiencia'].values\n",
    "y = data.loc[:, 'Salario'].values"
   ]
  },
  {
   "cell_type": "code",
   "execution_count": 6,
   "id": "457e139f-b837-45b8-8f57-0c991f635fd4",
   "metadata": {},
   "outputs": [],
   "source": [
    "xTrain, xTest, yTrain, yTest = train_test_split(x, y, test_size = 0.35, random_state = 0)"
   ]
  },
  {
   "cell_type": "markdown",
   "id": "e1f9872a-b767-4ae7-ad48-04b86bafcbd1",
   "metadata": {},
   "source": [
    "*Si obtenemos la longitud de los arreglos podemos ver que el xTest + xTrain suman la totalidad de registros del data set.*\n",
    "\n",
    "*Tambien podemos ver que xTest corresponde a la proporcion del dataset que indicamos en el parametro test_size*"
   ]
  },
  {
   "cell_type": "code",
   "execution_count": 7,
   "id": "a210464d-132c-4c37-b6dc-3d3ed474ef07",
   "metadata": {},
   "outputs": [
    {
     "data": {
      "text/plain": [
       "30"
      ]
     },
     "execution_count": 7,
     "metadata": {},
     "output_type": "execute_result"
    }
   ],
   "source": [
    "len(x)"
   ]
  },
  {
   "cell_type": "code",
   "execution_count": 8,
   "id": "edb425ac-b633-45f1-b0a3-632378fab25f",
   "metadata": {},
   "outputs": [
    {
     "data": {
      "text/plain": [
       "19"
      ]
     },
     "execution_count": 8,
     "metadata": {},
     "output_type": "execute_result"
    }
   ],
   "source": [
    "len(xTrain)"
   ]
  },
  {
   "cell_type": "code",
   "execution_count": 9,
   "id": "01a95dbe-545b-4a96-985c-f72b55a25d6c",
   "metadata": {},
   "outputs": [
    {
     "data": {
      "text/plain": [
       "11"
      ]
     },
     "execution_count": 9,
     "metadata": {},
     "output_type": "execute_result"
    }
   ],
   "source": [
    "len(xTest)"
   ]
  },
  {
   "cell_type": "markdown",
   "id": "76c3532d-155d-4c2f-bce8-696a190f0be4",
   "metadata": {},
   "source": [
    "*Comprobamos que las medias de yTrain y yTest sean muy cercanas, si no, elegimos un test_size mas alto o mas bajo.*"
   ]
  },
  {
   "cell_type": "code",
   "execution_count": 10,
   "id": "d8da4821-e3bb-44a6-b85f-10a1fd41c27c",
   "metadata": {},
   "outputs": [
    {
     "data": {
      "text/plain": [
       "30145.545454545456"
      ]
     },
     "execution_count": 10,
     "metadata": {},
     "output_type": "execute_result"
    }
   ],
   "source": [
    "np.mean(yTest) "
   ]
  },
  {
   "cell_type": "code",
   "execution_count": 11,
   "id": "b52f6295-21bf-4aab-8f0b-5f7775201381",
   "metadata": {},
   "outputs": [
    {
     "data": {
      "text/plain": [
       "25348.0"
      ]
     },
     "execution_count": 11,
     "metadata": {},
     "output_type": "execute_result"
    }
   ],
   "source": [
    "np.mean(yTrain)"
   ]
  },
  {
   "cell_type": "markdown",
   "id": "7a74d4e7-6264-47f0-b388-b81d131f7dda",
   "metadata": {},
   "source": [
    "*Utilizando funcion para evitar error Value Error LinearRegression Expected 2D array, got 1D array instead*"
   ]
  },
  {
   "cell_type": "code",
   "execution_count": 12,
   "id": "daa9bf6c-f8f8-4005-bf61-9f842c6483d0",
   "metadata": {},
   "outputs": [],
   "source": [
    "xTrain = xTrain.reshape(-1, 1)\n",
    "xTest = xTest.reshape(-1, 1)\n",
    "yTrain = yTrain.reshape(-1, 1)\n",
    "yTest = yTest.reshape(-1, 1)"
   ]
  },
  {
   "cell_type": "markdown",
   "id": "cc959d05-5491-46cb-90e1-aaedd19723ba",
   "metadata": {},
   "source": [
    "*regression almacena la funcion que corresponde a la linea de la regresion (que pasa cerca de todos los puntos de la informacion)*"
   ]
  },
  {
   "cell_type": "code",
   "execution_count": 13,
   "id": "f5ff6459-b4b2-4230-b73f-cc5fb36858f0",
   "metadata": {},
   "outputs": [
    {
     "data": {
      "text/plain": [
       "LinearRegression()"
      ]
     },
     "execution_count": 13,
     "metadata": {},
     "output_type": "execute_result"
    }
   ],
   "source": [
    "regression = LinearRegression()\n",
    "regression.fit(xTrain, yTrain)"
   ]
  },
  {
   "cell_type": "markdown",
   "id": "7740224b-ad8f-45c7-a723-309eb59a421b",
   "metadata": {},
   "source": [
    "*Comprobando los valores de testeo con los valores predecidos*"
   ]
  },
  {
   "cell_type": "code",
   "execution_count": 14,
   "id": "24031994-3dfa-4ad7-9966-6e10d6b6015b",
   "metadata": {},
   "outputs": [
    {
     "data": {
      "text/plain": [
       "array([[35000],\n",
       "       [25000],\n",
       "       [28000],\n",
       "       [27000],\n",
       "       [18300],\n",
       "       [40000],\n",
       "       [40000],\n",
       "       [35201],\n",
       "       [18200],\n",
       "       [27900],\n",
       "       [37000]])"
      ]
     },
     "execution_count": 14,
     "metadata": {},
     "output_type": "execute_result"
    }
   ],
   "source": [
    "yTest"
   ]
  },
  {
   "cell_type": "code",
   "execution_count": 15,
   "id": "39ebef70-746c-43a0-b7d5-261ddab14f23",
   "metadata": {},
   "outputs": [
    {
     "data": {
      "text/plain": [
       "array([[28670.80040933],\n",
       "       [24161.2855681 ],\n",
       "       [27382.36759755],\n",
       "       [24161.2855681 ],\n",
       "       [21584.41994454],\n",
       "       [40910.91212123],\n",
       "       [43487.77774479],\n",
       "       [33824.53165644],\n",
       "       [17719.1215092 ],\n",
       "       [28348.69220638],\n",
       "       [37045.61368589]])"
      ]
     },
     "execution_count": 15,
     "metadata": {},
     "output_type": "execute_result"
    }
   ],
   "source": [
    "regression.predict(xTest)"
   ]
  },
  {
   "cell_type": "markdown",
   "id": "3950dea8-5a08-4f03-bd0c-3e7771c7c4d3",
   "metadata": {},
   "source": [
    "*Graficando regresion lineal para xTest y yTest*\n",
    "\n",
    "*La linea corresponde a la prediccion (xTrain)*"
   ]
  },
  {
   "cell_type": "code",
   "execution_count": 16,
   "id": "8300b070-13c7-4590-875a-5bc36ed52ec9",
   "metadata": {},
   "outputs": [
    {
     "data": {
      "image/png": "[encoded data removed]",
      "text/plain": [
       "<Figure size 432x288 with 1 Axes>"
      ]
     },
     "metadata": {
      "needs_background": "light"
     },
     "output_type": "display_data"
    }
   ],
   "source": [
    "regressionGraph = plt\n",
    "regressionGraph.scatter(xTest, yTest, color = 'red')\n",
    "regressionGraph.plot(xTrain,regression.predict(xTrain), color = 'black')\n",
    "regressionGraph.title('Salario vs Experiencia')\n",
    "regressionGraph.xlabel('Experiencia')\n",
    "regressionGraph.ylabel('Salario')\n",
    "regressionGraph.show()"
   ]
  },
  {
   "cell_type": "markdown",
   "id": "30050724-da4c-4b3d-bd8d-82692a5362ea",
   "metadata": {},
   "source": [
    "*Graficando xTrain y yTrain*\n",
    "\n",
    "*La linea corresponde a la prediccion (xTrain)*"
   ]
  },
  {
   "cell_type": "code",
   "execution_count": 17,
   "id": "d247d907-6b9a-4d08-a201-0fdd25eff458",
   "metadata": {},
   "outputs": [
    {
     "data": {
      "image/png": "[encoded data removed]",
      "text/plain": [
       "<Figure size 432x288 with 1 Axes>"
      ]
     },
     "metadata": {
      "needs_background": "light"
     },
     "output_type": "display_data"
    }
   ],
   "source": [
    "regressionGraph = plt\n",
    "regressionGraph.scatter(xTrain, yTrain, color = 'blue')\n",
    "regressionGraph.plot(xTrain,regression.predict(xTrain), color = 'black')\n",
    "regressionGraph.title('Salario vs Experiencia')\n",
    "regressionGraph.xlabel('Experiencia')\n",
    "regressionGraph.ylabel('Salario')\n",
    "regressionGraph.show()"
   ]
  },
  {
   "cell_type": "markdown",
   "id": "fb854be4-f869-4546-b393-c50853017302",
   "metadata": {},
   "source": [
    "*Obtenemos coeficiente e intercepto*"
   ]
  },
  {
   "cell_type": "code",
   "execution_count": 18,
   "id": "26b64eab-bf00-41ab-9cb9-ac0d9b346267",
   "metadata": {},
   "outputs": [
    {
     "data": {
      "text/plain": [
       "array([[3221.08202945]])"
      ]
     },
     "execution_count": 18,
     "metadata": {},
     "output_type": "execute_result"
    }
   ],
   "source": [
    "regression.coef_"
   ]
  },
  {
   "cell_type": "code",
   "execution_count": 19,
   "id": "ba9415ed-06a4-40be-8bf6-88b5faa16cfe",
   "metadata": {},
   "outputs": [
    {
     "data": {
      "text/plain": [
       "array([11276.9574503])"
      ]
     },
     "execution_count": 19,
     "metadata": {},
     "output_type": "execute_result"
    }
   ],
   "source": [
    "regression.intercept_"
   ]
  }
 ],
 "metadata": {
  "kernelspec": {
   "display_name": "Python 3 (ipykernel)",
   "language": "python",
   "name": "python3"
  },
  "language_info": {
   "codemirror_mode": {
    "name": "ipython",
    "version": 3
   },
   "file_extension": ".py",
   "mimetype": "text/x-python",
   "name": "python",
   "nbconvert_exporter": "python",
   "pygments_lexer": "ipython3",
   "version": "3.9.12"
  },
  "toc-autonumbering": false,
  "toc-showcode": false,
  "toc-showmarkdowntxt": true
 },
 "nbformat": 4,
 "nbformat_minor": 5
}
