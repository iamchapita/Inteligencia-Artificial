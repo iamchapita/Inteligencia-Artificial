{
 "cells": [
  {
   "cell_type": "code",
   "execution_count": 1,
   "id": "76971947-35c8-47ee-a7f2-7c726f6ae24b",
   "metadata": {},
   "outputs": [],
   "source": [
    "import pandas as pd\n",
    "import numpy as np\n",
    "import matplotlib.pyplot as plt\n",
    "from datetime import date\n",
    "import seaborn as sns"
   ]
  },
  {
   "cell_type": "code",
   "execution_count": 2,
   "id": "db6bfd8e-a04d-4594-a7b8-a245fbc866c9",
   "metadata": {},
   "outputs": [],
   "source": [
    "df = pd.read_csv('fruitvegprices-2017_2022.csv')"
   ]
  },
  {
   "cell_type": "code",
   "execution_count": 3,
   "id": "3dae6b21-5b59-4f3f-80f2-9874fe928b38",
   "metadata": {},
   "outputs": [
    {
     "data": {
      "text/html": [
       "<div>\n",
       "<style scoped>\n",
       "    .dataframe tbody tr th:only-of-type {\n",
       "        vertical-align: middle;\n",
       "    }\n",
       "\n",
       "    .dataframe tbody tr th {\n",
       "        vertical-align: top;\n",
       "    }\n",
       "\n",
       "    .dataframe thead th {\n",
       "        text-align: right;\n",
       "    }\n",
       "</style>\n",
       "<table border=\"1\" class=\"dataframe\">\n",
       "  <thead>\n",
       "    <tr style=\"text-align: right;\">\n",
       "      <th></th>\n",
       "      <th>price</th>\n",
       "    </tr>\n",
       "  </thead>\n",
       "  <tbody>\n",
       "    <tr>\n",
       "      <th>count</th>\n",
       "      <td>9647.000000</td>\n",
       "    </tr>\n",
       "    <tr>\n",
       "      <th>mean</th>\n",
       "      <td>1.528333</td>\n",
       "    </tr>\n",
       "    <tr>\n",
       "      <th>std</th>\n",
       "      <td>1.927865</td>\n",
       "    </tr>\n",
       "    <tr>\n",
       "      <th>min</th>\n",
       "      <td>0.020000</td>\n",
       "    </tr>\n",
       "    <tr>\n",
       "      <th>25%</th>\n",
       "      <td>0.540000</td>\n",
       "    </tr>\n",
       "    <tr>\n",
       "      <th>50%</th>\n",
       "      <td>0.880000</td>\n",
       "    </tr>\n",
       "    <tr>\n",
       "      <th>75%</th>\n",
       "      <td>1.500000</td>\n",
       "    </tr>\n",
       "    <tr>\n",
       "      <th>max</th>\n",
       "      <td>17.600000</td>\n",
       "    </tr>\n",
       "  </tbody>\n",
       "</table>\n",
       "</div>"
      ],
      "text/plain": [
       "             price\n",
       "count  9647.000000\n",
       "mean      1.528333\n",
       "std       1.927865\n",
       "min       0.020000\n",
       "25%       0.540000\n",
       "50%       0.880000\n",
       "75%       1.500000\n",
       "max      17.600000"
      ]
     },
     "execution_count": 3,
     "metadata": {},
     "output_type": "execute_result"
    }
   ],
   "source": [
    "df.describe()"
   ]
  },
  {
   "cell_type": "code",
   "execution_count": 4,
   "id": "d79ef278-dd79-4af5-acff-29eea1611932",
   "metadata": {},
   "outputs": [
    {
     "data": {
      "text/plain": [
       "{'whiskers': [<matplotlib.lines.Line2D at 0x7fd0732471c0>,\n",
       "  <matplotlib.lines.Line2D at 0x7fd073247490>],\n",
       " 'caps': [<matplotlib.lines.Line2D at 0x7fd073247820>,\n",
       "  <matplotlib.lines.Line2D at 0x7fd073247a30>],\n",
       " 'boxes': [<matplotlib.lines.Line2D at 0x7fd07322bfd0>],\n",
       " 'medians': [<matplotlib.lines.Line2D at 0x7fd073247d00>],\n",
       " 'fliers': [<matplotlib.lines.Line2D at 0x7fd073247fd0>],\n",
       " 'means': []}"
      ]
     },
     "execution_count": 4,
     "metadata": {},
     "output_type": "execute_result"
    },
    {
     "data": {
      "image/png": "[encoded data removed]",
      "text/plain": [
       "<Figure size 432x288 with 1 Axes>"
      ]
     },
     "metadata": {
      "needs_background": "light"
     },
     "output_type": "display_data"
    }
   ],
   "source": [
    "plt.boxplot(df['price'])"
   ]
  },
  {
   "cell_type": "code",
   "execution_count": 5,
   "id": "262b16b2-2d31-4c88-967b-701021aad5e2",
   "metadata": {},
   "outputs": [
    {
     "data": {
      "text/plain": [
       "0.88"
      ]
     },
     "execution_count": 5,
     "metadata": {},
     "output_type": "execute_result"
    }
   ],
   "source": [
    "np.median(df['price'])"
   ]
  },
  {
   "cell_type": "markdown",
   "id": "8157913a-7acb-4078-87db-765b93e31a45",
   "metadata": {},
   "source": [
    "# EDA - Exploratory Data Analysis"
   ]
  },
  {
   "cell_type": "code",
   "execution_count": 6,
   "id": "2daf654e-07ec-475e-a70a-004658871a04",
   "metadata": {},
   "outputs": [],
   "source": [
    "df['date'] =  pd.to_datetime(df['date'])"
   ]
  },
  {
   "cell_type": "code",
   "execution_count": 7,
   "id": "5d76ef1b-dcf6-4c1e-bc29-9a1a44b22e4d",
   "metadata": {},
   "outputs": [],
   "source": [
    "df['year'] = df['date'].dt.year"
   ]
  },
  {
   "cell_type": "markdown",
   "id": "98a08f3c-b8ee-4e04-bfea-97bfac9a4d8c",
   "metadata": {},
   "source": [
    "**Obtenemos el porcentaje de valores que representa cada año en el 100% de la información del DataFrame**"
   ]
  },
  {
   "cell_type": "code",
   "execution_count": 8,
   "id": "4a0355df-1e46-460f-b584-5684116f84cd",
   "metadata": {},
   "outputs": [
    {
     "data": {
      "text/plain": [
       "year\n",
       "2018    0.244532\n",
       "2019    0.235410\n",
       "2020    0.224422\n",
       "2021    0.224111\n",
       "2017    0.038872\n",
       "2022    0.032653\n",
       "dtype: float64"
      ]
     },
     "execution_count": 8,
     "metadata": {},
     "output_type": "execute_result"
    }
   ],
   "source": [
    "df.loc[:,['year']].value_counts() / df.shape[0]"
   ]
  },
  {
   "cell_type": "code",
   "execution_count": 9,
   "id": "dcb9cdba-1838-4460-b8bd-7493de685136",
   "metadata": {},
   "outputs": [
    {
     "data": {
      "text/plain": [
       "{'whiskers': [<matplotlib.lines.Line2D at 0x7fd0729b9dc0>,\n",
       "  <matplotlib.lines.Line2D at 0x7fd0729470d0>],\n",
       " 'caps': [<matplotlib.lines.Line2D at 0x7fd0729473a0>,\n",
       "  <matplotlib.lines.Line2D at 0x7fd072947670>],\n",
       " 'boxes': [<matplotlib.lines.Line2D at 0x7fd0729b9af0>],\n",
       " 'medians': [<matplotlib.lines.Line2D at 0x7fd072947940>],\n",
       " 'fliers': [<matplotlib.lines.Line2D at 0x7fd072947c10>],\n",
       " 'means': []}"
      ]
     },
     "execution_count": 9,
     "metadata": {},
     "output_type": "execute_result"
    },
    {
     "data": {
      "image/png": "[encoded data removed]",
      "text/plain": [
       "<Figure size 432x288 with 1 Axes>"
      ]
     },
     "metadata": {
      "needs_background": "light"
     },
     "output_type": "display_data"
    }
   ],
   "source": [
    "plt.boxplot(df.loc[:, ['year']].value_counts())"
   ]
  },
  {
   "cell_type": "markdown",
   "id": "9fcc34cb-5cd2-4037-ac7b-67c3bb6f218e",
   "metadata": {},
   "source": [
    "**Obtenemos el porcentaje que representan las categorías en el dataset completo**"
   ]
  },
  {
   "cell_type": "code",
   "execution_count": 10,
   "id": "46fae9cd-b78d-4868-9571-39528732f66d",
   "metadata": {},
   "outputs": [
    {
     "data": {
      "text/plain": [
       "category   \n",
       "vegetable      0.752980\n",
       "fruit          0.206489\n",
       "cut_flowers    0.035451\n",
       "pot_plants     0.005079\n",
       "dtype: float64"
      ]
     },
     "execution_count": 10,
     "metadata": {},
     "output_type": "execute_result"
    }
   ],
   "source": [
    "df.loc[ : , [\"category\"] ].value_counts() / df.shape[0]"
   ]
  },
  {
   "cell_type": "markdown",
   "id": "82664540-f6ba-4123-ab5a-43f58e9c905d",
   "metadata": {},
   "source": [
    "**Como ya sabemos que los años 2022 y 2017 son los que menos datos poseen dentro del dataset y como la category pot_plants es la que menos entradas poseen dentro del dataset, los excluimos del boxplot**"
   ]
  },
  {
   "cell_type": "code",
   "execution_count": 11,
   "id": "6ca135cf-3934-4b49-a8c0-1bd5a49b009f",
   "metadata": {},
   "outputs": [],
   "source": [
    "df = df.loc[~df['year'].isin([2017, 2022]), :]\n",
    "df = df.loc[df['category'] != 'plot_plants', :]"
   ]
  },
  {
   "cell_type": "code",
   "execution_count": 12,
   "id": "d5960c86-4865-4cf6-a505-8cc8771a0810",
   "metadata": {},
   "outputs": [
    {
     "data": {
      "text/plain": [
       "{'whiskers': [<matplotlib.lines.Line2D at 0x7fd07293d190>,\n",
       "  <matplotlib.lines.Line2D at 0x7fd07293d460>],\n",
       " 'caps': [<matplotlib.lines.Line2D at 0x7fd07293d730>,\n",
       "  <matplotlib.lines.Line2D at 0x7fd07293da00>],\n",
       " 'boxes': [<matplotlib.lines.Line2D at 0x7fd07292be80>],\n",
       " 'medians': [<matplotlib.lines.Line2D at 0x7fd07293dcd0>],\n",
       " 'fliers': [<matplotlib.lines.Line2D at 0x7fd07293dfa0>],\n",
       " 'means': []}"
      ]
     },
     "execution_count": 12,
     "metadata": {},
     "output_type": "execute_result"
    },
    {
     "data": {
      "image/png": "[encoded data removed]",
      "text/plain": [
       "<Figure size 432x288 with 1 Axes>"
      ]
     },
     "metadata": {
      "needs_background": "light"
     },
     "output_type": "display_data"
    }
   ],
   "source": [
    "plt.boxplot( df.loc[:, ['year']].value_counts())"
   ]
  },
  {
   "cell_type": "code",
   "execution_count": 13,
   "id": "d2050c2d-5672-40ff-9876-4c87a90da179",
   "metadata": {},
   "outputs": [
    {
     "data": {
      "text/plain": [
       "year\n",
       "2018    2359\n",
       "2019    2271\n",
       "2020    2165\n",
       "2021    2162\n",
       "dtype: int64"
      ]
     },
     "execution_count": 13,
     "metadata": {},
     "output_type": "execute_result"
    }
   ],
   "source": [
    "df.loc[:, ['year']].value_counts()"
   ]
  },
  {
   "cell_type": "code",
   "execution_count": 14,
   "id": "8627b586-3236-4e3c-89a9-fff74abd10b0",
   "metadata": {},
   "outputs": [
    {
     "data": {
      "text/plain": [
       "<AxesSubplot:xlabel='year', ylabel='price'>"
      ]
     },
     "execution_count": 14,
     "metadata": {},
     "output_type": "execute_result"
    },
    {
     "data": {
      "image/png": "[encoded data removed]",
      "text/plain": [
       "<Figure size 432x288 with 1 Axes>"
      ]
     },
     "metadata": {
      "needs_background": "light"
     },
     "output_type": "display_data"
    }
   ],
   "source": [
    "sns.boxplot( data=df  , x=\"year\" , y=\"price\" )"
   ]
  },
  {
   "cell_type": "code",
   "execution_count": 15,
   "id": "a24c2ace-6e93-4350-89b5-e576b9d2d3f2",
   "metadata": {},
   "outputs": [
    {
     "data": {
      "text/plain": [
       "category   \n",
       "vegetable      6785\n",
       "fruit          1838\n",
       "cut_flowers     296\n",
       "pot_plants       38\n",
       "dtype: int64"
      ]
     },
     "execution_count": 15,
     "metadata": {},
     "output_type": "execute_result"
    }
   ],
   "source": [
    "df.loc[ : , [\"category\"] ].value_counts()"
   ]
  },
  {
   "cell_type": "code",
   "execution_count": 16,
   "id": "10de6014-e96d-434c-962d-b43e059618db",
   "metadata": {},
   "outputs": [
    {
     "data": {
      "text/plain": [
       "<AxesSubplot:xlabel='item', ylabel='price'>"
      ]
     },
     "execution_count": 16,
     "metadata": {},
     "output_type": "execute_result"
    },
    {
     "data": {
      "image/png": "[encoded data removed]",
      "text/plain": [
       "<Figure size 432x288 with 1 Axes>"
      ]
     },
     "metadata": {
      "needs_background": "light"
     },
     "output_type": "display_data"
    }
   ],
   "source": [
    "sns.boxplot( data=df.loc[ (df['category'] == 'cut_flowers') & (df['year'] == 2018) , : ]  , x=\"item\" , y=\"price\" )"
   ]
  },
  {
   "cell_type": "code",
   "execution_count": 17,
   "id": "811eb742-9690-4371-889b-2d24822d27ce",
   "metadata": {},
   "outputs": [
    {
     "data": {
      "text/plain": [
       "<AxesSubplot:xlabel='item', ylabel='price'>"
      ]
     },
     "execution_count": 17,
     "metadata": {},
     "output_type": "execute_result"
    },
    {
     "data": {
      "image/png": "[encoded data removed]",
      "text/plain": [
       "<Figure size 432x288 with 1 Axes>"
      ]
     },
     "metadata": {
      "needs_background": "light"
     },
     "output_type": "display_data"
    }
   ],
   "source": [
    "sns.boxplot( data=df.loc[ (df['category'] == 'cut_flowers') & (df['year'] == 2019) , : ]  , x=\"item\" , y=\"price\" )"
   ]
  },
  {
   "cell_type": "code",
   "execution_count": 18,
   "id": "da88904e-5db1-45f2-9d42-775d5b3c9883",
   "metadata": {},
   "outputs": [
    {
     "data": {
      "text/plain": [
       "<AxesSubplot:xlabel='item', ylabel='price'>"
      ]
     },
     "execution_count": 18,
     "metadata": {},
     "output_type": "execute_result"
    },
    {
     "data": {
      "image/png": "[encoded data removed]",
      "text/plain": [
       "<Figure size 432x288 with 1 Axes>"
      ]
     },
     "metadata": {
      "needs_background": "light"
     },
     "output_type": "display_data"
    }
   ],
   "source": [
    "sns.boxplot( data=df.loc[ (df['category'] == 'cut_flowers') & (df['year'] == 2020) , : ]  , x=\"item\" , y=\"price\" )"
   ]
  },
  {
   "cell_type": "code",
   "execution_count": 19,
   "id": "7e9c65cb-ed59-44be-8c6a-a977e4931078",
   "metadata": {},
   "outputs": [
    {
     "data": {
      "text/plain": [
       "<AxesSubplot:xlabel='item', ylabel='price'>"
      ]
     },
     "execution_count": 19,
     "metadata": {},
     "output_type": "execute_result"
    },
    {
     "data": {
      "image/png": "[encoded data removed]",
      "text/plain": [
       "<Figure size 432x288 with 1 Axes>"
      ]
     },
     "metadata": {
      "needs_background": "light"
     },
     "output_type": "display_data"
    }
   ],
   "source": [
    "sns.boxplot( data=df.loc[ (df['category'] == 'cut_flowers') & (df['year'] == 2021) , : ]  , x=\"item\" , y=\"price\" )"
   ]
  },
  {
   "cell_type": "markdown",
   "id": "dc90cf2d-758b-4530-93c3-399029493731",
   "metadata": {},
   "source": [
    "### Experimento para encontrar valores atipicos"
   ]
  },
  {
   "cell_type": "code",
   "execution_count": 20,
   "id": "d201251f-7c86-46e8-8c92-e4a11067f487",
   "metadata": {},
   "outputs": [],
   "source": [
    "gladioni_2020 = df.loc[ (df['category'] == 'cut_flowers') & (df['year'] == 2020) & (df['item'] == 'gladioli') , ['price'] ]"
   ]
  },
  {
   "cell_type": "code",
   "execution_count": 21,
   "id": "3847081e-7e3c-4ad8-8bac-a5e9101339a7",
   "metadata": {},
   "outputs": [
    {
     "data": {
      "text/plain": [
       "{'whiskers': [<matplotlib.lines.Line2D at 0x7fd07254ed60>,\n",
       "  <matplotlib.lines.Line2D at 0x7fd07255b070>],\n",
       " 'caps': [<matplotlib.lines.Line2D at 0x7fd07255b340>,\n",
       "  <matplotlib.lines.Line2D at 0x7fd07255b610>],\n",
       " 'boxes': [<matplotlib.lines.Line2D at 0x7fd07254ea90>],\n",
       " 'medians': [<matplotlib.lines.Line2D at 0x7fd07255b8e0>],\n",
       " 'fliers': [<matplotlib.lines.Line2D at 0x7fd07255bbb0>],\n",
       " 'means': []}"
      ]
     },
     "execution_count": 21,
     "metadata": {},
     "output_type": "execute_result"
    },
    {
     "data": {
      "image/png": "[encoded data removed]",
      "text/plain": [
       "<Figure size 432x288 with 1 Axes>"
      ]
     },
     "metadata": {
      "needs_background": "light"
     },
     "output_type": "display_data"
    }
   ],
   "source": [
    "plt.boxplot(gladioni_2020)"
   ]
  },
  {
   "cell_type": "code",
   "execution_count": 22,
   "id": "ec3a9401-a69c-4868-83b9-dcc0d3f9c85d",
   "metadata": {},
   "outputs": [],
   "source": [
    "q1 = np.quantile( gladioni_2020 , 0.25 )\n",
    "q3 = np.quantile( gladioni_2020 , 0.75 )"
   ]
  },
  {
   "cell_type": "code",
   "execution_count": 23,
   "id": "aa6f54de-ea68-437e-a596-79571b2d3855",
   "metadata": {},
   "outputs": [
    {
     "data": {
      "text/plain": [
       "0.23"
      ]
     },
     "execution_count": 23,
     "metadata": {},
     "output_type": "execute_result"
    }
   ],
   "source": [
    "q1"
   ]
  },
  {
   "cell_type": "code",
   "execution_count": 24,
   "id": "761e2411-fa55-43ab-ab78-4d46752682b2",
   "metadata": {},
   "outputs": [
    {
     "data": {
      "text/plain": [
       "0.24"
      ]
     },
     "execution_count": 24,
     "metadata": {},
     "output_type": "execute_result"
    }
   ],
   "source": [
    "q3"
   ]
  },
  {
   "cell_type": "code",
   "execution_count": 25,
   "id": "bacf50b3-a3c6-4047-9c78-91e1f277fbed",
   "metadata": {},
   "outputs": [
    {
     "data": {
      "text/plain": [
       "0.24"
      ]
     },
     "execution_count": 25,
     "metadata": {},
     "output_type": "execute_result"
    }
   ],
   "source": [
    "np.median(gladioni_2020)"
   ]
  },
  {
   "cell_type": "code",
   "execution_count": 26,
   "id": "a47214e2-94c1-4210-9ed7-db7b9998b517",
   "metadata": {},
   "outputs": [
    {
     "data": {
      "text/plain": [
       "0.24"
      ]
     },
     "execution_count": 26,
     "metadata": {},
     "output_type": "execute_result"
    }
   ],
   "source": [
    "np.quantile(gladioni_2020, 0.5)"
   ]
  },
  {
   "cell_type": "code",
   "execution_count": 27,
   "id": "838cad83-af75-4c47-9d60-ac28f441fcd0",
   "metadata": {},
   "outputs": [],
   "source": [
    "iqr= q3-q1"
   ]
  },
  {
   "cell_type": "code",
   "execution_count": 28,
   "id": "d432aac2-2aeb-4ef7-b0b2-6c6f84a2d744",
   "metadata": {},
   "outputs": [
    {
     "data": {
      "text/plain": [
       "0.009999999999999981"
      ]
     },
     "execution_count": 28,
     "metadata": {},
     "output_type": "execute_result"
    }
   ],
   "source": [
    "iqr"
   ]
  },
  {
   "cell_type": "code",
   "execution_count": 29,
   "id": "829bdfba-f49c-40dc-8d04-1560e33ce69d",
   "metadata": {},
   "outputs": [],
   "source": [
    "upper_bound = q3 + (1.5*iqr)\n",
    "lower_bound = q1 - (1.5*iqr)"
   ]
  },
  {
   "cell_type": "code",
   "execution_count": 30,
   "id": "6f4cbb1e-f1ac-4ac6-b12e-ef66e55615b3",
   "metadata": {},
   "outputs": [
    {
     "data": {
      "text/plain": [
       "0.25499999999999995"
      ]
     },
     "execution_count": 30,
     "metadata": {},
     "output_type": "execute_result"
    }
   ],
   "source": [
    "upper_bound"
   ]
  },
  {
   "cell_type": "code",
   "execution_count": 31,
   "id": "991180bf-3d35-4783-a196-4288a36ebd94",
   "metadata": {},
   "outputs": [
    {
     "data": {
      "text/plain": [
       "0.21500000000000002"
      ]
     },
     "execution_count": 31,
     "metadata": {},
     "output_type": "execute_result"
    }
   ],
   "source": [
    "lower_bound"
   ]
  },
  {
   "cell_type": "code",
   "execution_count": null,
   "id": "d2bc917f-1630-4378-8a89-bf43744329eb",
   "metadata": {},
   "outputs": [],
   "source": []
  },
  {
   "cell_type": "code",
   "execution_count": 32,
   "id": "7057c7e9-5139-49ff-bd3b-42f9a7613402",
   "metadata": {},
   "outputs": [
    {
     "data": {
      "text/html": [
       "<div>\n",
       "<style scoped>\n",
       "    .dataframe tbody tr th:only-of-type {\n",
       "        vertical-align: middle;\n",
       "    }\n",
       "\n",
       "    .dataframe tbody tr th {\n",
       "        vertical-align: top;\n",
       "    }\n",
       "\n",
       "    .dataframe thead th {\n",
       "        text-align: right;\n",
       "    }\n",
       "</style>\n",
       "<table border=\"1\" class=\"dataframe\">\n",
       "  <thead>\n",
       "    <tr style=\"text-align: right;\">\n",
       "      <th></th>\n",
       "      <th>price</th>\n",
       "    </tr>\n",
       "  </thead>\n",
       "  <tbody>\n",
       "    <tr>\n",
       "      <th>2701</th>\n",
       "      <td>0.10</td>\n",
       "    </tr>\n",
       "    <tr>\n",
       "      <th>2750</th>\n",
       "      <td>0.11</td>\n",
       "    </tr>\n",
       "    <tr>\n",
       "      <th>2804</th>\n",
       "      <td>0.20</td>\n",
       "    </tr>\n",
       "    <tr>\n",
       "      <th>3037</th>\n",
       "      <td>0.26</td>\n",
       "    </tr>\n",
       "    <tr>\n",
       "      <th>3506</th>\n",
       "      <td>0.26</td>\n",
       "    </tr>\n",
       "    <tr>\n",
       "      <th>3622</th>\n",
       "      <td>0.27</td>\n",
       "    </tr>\n",
       "  </tbody>\n",
       "</table>\n",
       "</div>"
      ],
      "text/plain": [
       "      price\n",
       "2701   0.10\n",
       "2750   0.11\n",
       "2804   0.20\n",
       "3037   0.26\n",
       "3506   0.26\n",
       "3622   0.27"
      ]
     },
     "execution_count": 32,
     "metadata": {},
     "output_type": "execute_result"
    }
   ],
   "source": [
    "gladioni_2020.loc[ (gladioni_2020['price'] > upper_bound) | (gladioni_2020['price'] < lower_bound) , : ]"
   ]
  },
  {
   "cell_type": "code",
   "execution_count": 33,
   "id": "65fddc60-5f9b-4d36-bc8b-11df00250912",
   "metadata": {},
   "outputs": [],
   "source": [
    "dfq1 = df.loc[:, ['item', 'year','price']]"
   ]
  },
  {
   "cell_type": "code",
   "execution_count": 34,
   "id": "7681affa-2242-4216-8dfb-a06c519e6626",
   "metadata": {},
   "outputs": [],
   "source": [
    "dfq2= df.loc[:, ['item', 'year','price']]"
   ]
  },
  {
   "cell_type": "code",
   "execution_count": 35,
   "id": "148a6654-bac6-426c-96d1-3cfa5dc030dd",
   "metadata": {},
   "outputs": [],
   "source": [
    "dfq3 = df.loc[:, ['item', 'year','price']]"
   ]
  },
  {
   "cell_type": "code",
   "execution_count": 36,
   "id": "1bda4876-2c8b-4f33-bcc2-205878acc0b9",
   "metadata": {},
   "outputs": [],
   "source": [
    "dfq1 = dfq1.groupby(['item', 'year'], as_index=False).quantile(0.25)\n",
    "dfq1.columns = ['item', 'year', 'priceq1']"
   ]
  },
  {
   "cell_type": "code",
   "execution_count": 37,
   "id": "ea9d1c78-286a-49ad-88d9-b47b807e2ee8",
   "metadata": {},
   "outputs": [],
   "source": [
    "dfq2 = dfq2.groupby(['item', 'year'], as_index=False).mean()\n",
    "dfq2.columns = ['item', 'year', 'priceq2']"
   ]
  },
  {
   "cell_type": "code",
   "execution_count": 38,
   "id": "9e58e570-da23-49ae-b102-2de59d54d56b",
   "metadata": {},
   "outputs": [],
   "source": [
    "dfq3 = dfq3.groupby(['item', 'year'], as_index=False).quantile(0.75)\n",
    "dfq3.columns = ['item', 'year', 'priceq3']"
   ]
  },
  {
   "cell_type": "code",
   "execution_count": 39,
   "id": "bc24a4f4-e398-48ff-a71e-079a665c0887",
   "metadata": {},
   "outputs": [],
   "source": [
    "dfiqr = dfq1.merge(dfq2, how=\"inner\", on=['item', 'year'])"
   ]
  },
  {
   "cell_type": "code",
   "execution_count": 40,
   "id": "1a4e4c51-3822-4ae0-aa96-d202283aaf32",
   "metadata": {},
   "outputs": [],
   "source": [
    "dfiqr = dfiqr.merge(dfq3, how='inner', on=['item', 'year'])"
   ]
  },
  {
   "cell_type": "code",
   "execution_count": 41,
   "id": "616c9155-519d-4b6b-a94f-6568d6d9aa77",
   "metadata": {},
   "outputs": [],
   "source": [
    "dfiqr['iqr'] = dfiqr.apply(lambda r: r['priceq3'] - r['priceq1'], axis=1)"
   ]
  },
  {
   "cell_type": "code",
   "execution_count": 42,
   "id": "188b89fc-2a65-41c4-980f-74644f1209fd",
   "metadata": {},
   "outputs": [],
   "source": [
    "dfiqr['upper'] = dfiqr.apply(lambda r: r['priceq3'] + (1.5*r['iqr']), axis=1)\n",
    "dfiqr['lower'] = dfiqr.apply(lambda r: r['priceq1'] - (1.5*r['iqr']), axis=1)"
   ]
  },
  {
   "cell_type": "code",
   "execution_count": 43,
   "id": "8d52153d-84f8-439b-a059-5deed571a2af",
   "metadata": {},
   "outputs": [
    {
     "data": {
      "text/html": [
       "<div>\n",
       "<style scoped>\n",
       "    .dataframe tbody tr th:only-of-type {\n",
       "        vertical-align: middle;\n",
       "    }\n",
       "\n",
       "    .dataframe tbody tr th {\n",
       "        vertical-align: top;\n",
       "    }\n",
       "\n",
       "    .dataframe thead th {\n",
       "        text-align: right;\n",
       "    }\n",
       "</style>\n",
       "<table border=\"1\" class=\"dataframe\">\n",
       "  <thead>\n",
       "    <tr style=\"text-align: right;\">\n",
       "      <th></th>\n",
       "      <th>item</th>\n",
       "      <th>year</th>\n",
       "      <th>priceq1</th>\n",
       "      <th>priceq2</th>\n",
       "      <th>priceq3</th>\n",
       "      <th>iqr</th>\n",
       "      <th>upper</th>\n",
       "      <th>lower</th>\n",
       "    </tr>\n",
       "  </thead>\n",
       "  <tbody>\n",
       "    <tr>\n",
       "      <th>0</th>\n",
       "      <td>alstromeria</td>\n",
       "      <td>2018</td>\n",
       "      <td>0.2600</td>\n",
       "      <td>0.282200</td>\n",
       "      <td>0.3100</td>\n",
       "      <td>0.0500</td>\n",
       "      <td>0.38500</td>\n",
       "      <td>0.18500</td>\n",
       "    </tr>\n",
       "    <tr>\n",
       "      <th>1</th>\n",
       "      <td>apples</td>\n",
       "      <td>2018</td>\n",
       "      <td>0.7400</td>\n",
       "      <td>0.884112</td>\n",
       "      <td>0.9300</td>\n",
       "      <td>0.1900</td>\n",
       "      <td>1.21500</td>\n",
       "      <td>0.45500</td>\n",
       "    </tr>\n",
       "    <tr>\n",
       "      <th>2</th>\n",
       "      <td>apples</td>\n",
       "      <td>2019</td>\n",
       "      <td>0.8100</td>\n",
       "      <td>0.906705</td>\n",
       "      <td>0.9900</td>\n",
       "      <td>0.1800</td>\n",
       "      <td>1.26000</td>\n",
       "      <td>0.54000</td>\n",
       "    </tr>\n",
       "    <tr>\n",
       "      <th>3</th>\n",
       "      <td>apples</td>\n",
       "      <td>2020</td>\n",
       "      <td>0.9200</td>\n",
       "      <td>1.156789</td>\n",
       "      <td>1.2500</td>\n",
       "      <td>0.3300</td>\n",
       "      <td>1.74500</td>\n",
       "      <td>0.42500</td>\n",
       "    </tr>\n",
       "    <tr>\n",
       "      <th>4</th>\n",
       "      <td>apples</td>\n",
       "      <td>2021</td>\n",
       "      <td>0.9600</td>\n",
       "      <td>1.106423</td>\n",
       "      <td>1.2300</td>\n",
       "      <td>0.2700</td>\n",
       "      <td>1.63500</td>\n",
       "      <td>0.55500</td>\n",
       "    </tr>\n",
       "    <tr>\n",
       "      <th>...</th>\n",
       "      <td>...</td>\n",
       "      <td>...</td>\n",
       "      <td>...</td>\n",
       "      <td>...</td>\n",
       "      <td>...</td>\n",
       "      <td>...</td>\n",
       "      <td>...</td>\n",
       "      <td>...</td>\n",
       "    </tr>\n",
       "    <tr>\n",
       "      <th>178</th>\n",
       "      <td>turnip</td>\n",
       "      <td>2019</td>\n",
       "      <td>0.9500</td>\n",
       "      <td>1.160000</td>\n",
       "      <td>1.4075</td>\n",
       "      <td>0.4575</td>\n",
       "      <td>2.09375</td>\n",
       "      <td>0.26375</td>\n",
       "    </tr>\n",
       "    <tr>\n",
       "      <th>179</th>\n",
       "      <td>turnip</td>\n",
       "      <td>2020</td>\n",
       "      <td>1.1800</td>\n",
       "      <td>1.353784</td>\n",
       "      <td>1.5400</td>\n",
       "      <td>0.3600</td>\n",
       "      <td>2.08000</td>\n",
       "      <td>0.64000</td>\n",
       "    </tr>\n",
       "    <tr>\n",
       "      <th>180</th>\n",
       "      <td>turnip</td>\n",
       "      <td>2021</td>\n",
       "      <td>1.3000</td>\n",
       "      <td>1.438400</td>\n",
       "      <td>1.6775</td>\n",
       "      <td>0.3775</td>\n",
       "      <td>2.24375</td>\n",
       "      <td>0.73375</td>\n",
       "    </tr>\n",
       "    <tr>\n",
       "      <th>181</th>\n",
       "      <td>watercress</td>\n",
       "      <td>2018</td>\n",
       "      <td>8.6975</td>\n",
       "      <td>9.516400</td>\n",
       "      <td>10.5250</td>\n",
       "      <td>1.8275</td>\n",
       "      <td>13.26625</td>\n",
       "      <td>5.95625</td>\n",
       "    </tr>\n",
       "    <tr>\n",
       "      <th>182</th>\n",
       "      <td>watercress</td>\n",
       "      <td>2019</td>\n",
       "      <td>8.2625</td>\n",
       "      <td>8.899118</td>\n",
       "      <td>9.8750</td>\n",
       "      <td>1.6125</td>\n",
       "      <td>12.29375</td>\n",
       "      <td>5.84375</td>\n",
       "    </tr>\n",
       "  </tbody>\n",
       "</table>\n",
       "<p>183 rows × 8 columns</p>\n",
       "</div>"
      ],
      "text/plain": [
       "            item  year  priceq1   priceq2  priceq3     iqr     upper    lower\n",
       "0    alstromeria  2018   0.2600  0.282200   0.3100  0.0500   0.38500  0.18500\n",
       "1         apples  2018   0.7400  0.884112   0.9300  0.1900   1.21500  0.45500\n",
       "2         apples  2019   0.8100  0.906705   0.9900  0.1800   1.26000  0.54000\n",
       "3         apples  2020   0.9200  1.156789   1.2500  0.3300   1.74500  0.42500\n",
       "4         apples  2021   0.9600  1.106423   1.2300  0.2700   1.63500  0.55500\n",
       "..           ...   ...      ...       ...      ...     ...       ...      ...\n",
       "178       turnip  2019   0.9500  1.160000   1.4075  0.4575   2.09375  0.26375\n",
       "179       turnip  2020   1.1800  1.353784   1.5400  0.3600   2.08000  0.64000\n",
       "180       turnip  2021   1.3000  1.438400   1.6775  0.3775   2.24375  0.73375\n",
       "181   watercress  2018   8.6975  9.516400  10.5250  1.8275  13.26625  5.95625\n",
       "182   watercress  2019   8.2625  8.899118   9.8750  1.6125  12.29375  5.84375\n",
       "\n",
       "[183 rows x 8 columns]"
      ]
     },
     "execution_count": 43,
     "metadata": {},
     "output_type": "execute_result"
    }
   ],
   "source": [
    "dfiqr"
   ]
  },
  {
   "cell_type": "code",
   "execution_count": 44,
   "id": "31300dd1-8a02-4b72-bde4-00f6b630a755",
   "metadata": {},
   "outputs": [],
   "source": [
    "dft = df.merge(dfiqr, on=['item', 'year'], how='left')"
   ]
  },
  {
   "cell_type": "code",
   "execution_count": 45,
   "id": "b0599a3f-7bf6-49c9-b711-5a07e02ec778",
   "metadata": {},
   "outputs": [],
   "source": [
    "dft = dft.loc[:, ['category', 'item', 'variety','year', 'priceq1', 'priceq2', 'priceq3', 'iqr', 'upper', 'lower', 'price']]"
   ]
  },
  {
   "cell_type": "code",
   "execution_count": 46,
   "id": "8abc5a1b-ea5b-48d5-a2b9-9190db11f244",
   "metadata": {},
   "outputs": [],
   "source": [
    "dft['newPrice'] = dft.apply(lambda r: r['priceq2'] if (r['price'] <= r['lower'] or r['price'] >= r['upper']) else r['price'] , axis=1)"
   ]
  },
  {
   "cell_type": "code",
   "execution_count": 47,
   "id": "985082a3-7a25-4f89-9aa2-0b91b586675e",
   "metadata": {},
   "outputs": [
    {
     "data": {
      "text/html": [
       "<div>\n",
       "<style scoped>\n",
       "    .dataframe tbody tr th:only-of-type {\n",
       "        vertical-align: middle;\n",
       "    }\n",
       "\n",
       "    .dataframe tbody tr th {\n",
       "        vertical-align: top;\n",
       "    }\n",
       "\n",
       "    .dataframe thead th {\n",
       "        text-align: right;\n",
       "    }\n",
       "</style>\n",
       "<table border=\"1\" class=\"dataframe\">\n",
       "  <thead>\n",
       "    <tr style=\"text-align: right;\">\n",
       "      <th></th>\n",
       "      <th>category</th>\n",
       "      <th>item</th>\n",
       "      <th>variety</th>\n",
       "      <th>year</th>\n",
       "      <th>priceq1</th>\n",
       "      <th>priceq2</th>\n",
       "      <th>priceq3</th>\n",
       "      <th>iqr</th>\n",
       "      <th>upper</th>\n",
       "      <th>lower</th>\n",
       "      <th>price</th>\n",
       "      <th>newPrice</th>\n",
       "    </tr>\n",
       "  </thead>\n",
       "  <tbody>\n",
       "    <tr>\n",
       "      <th>0</th>\n",
       "      <td>fruit</td>\n",
       "      <td>apples</td>\n",
       "      <td>bramleys_seedling</td>\n",
       "      <td>2021</td>\n",
       "      <td>0.96</td>\n",
       "      <td>1.106423</td>\n",
       "      <td>1.23</td>\n",
       "      <td>0.27</td>\n",
       "      <td>1.635</td>\n",
       "      <td>0.555</td>\n",
       "      <td>1.69</td>\n",
       "      <td>1.106423</td>\n",
       "    </tr>\n",
       "    <tr>\n",
       "      <th>1</th>\n",
       "      <td>fruit</td>\n",
       "      <td>apples</td>\n",
       "      <td>coxs_orange_group</td>\n",
       "      <td>2021</td>\n",
       "      <td>0.96</td>\n",
       "      <td>1.106423</td>\n",
       "      <td>1.23</td>\n",
       "      <td>0.27</td>\n",
       "      <td>1.635</td>\n",
       "      <td>0.555</td>\n",
       "      <td>0.97</td>\n",
       "      <td>0.970000</td>\n",
       "    </tr>\n",
       "    <tr>\n",
       "      <th>2</th>\n",
       "      <td>fruit</td>\n",
       "      <td>apples</td>\n",
       "      <td>egremont_russet</td>\n",
       "      <td>2021</td>\n",
       "      <td>0.96</td>\n",
       "      <td>1.106423</td>\n",
       "      <td>1.23</td>\n",
       "      <td>0.27</td>\n",
       "      <td>1.635</td>\n",
       "      <td>0.555</td>\n",
       "      <td>1.06</td>\n",
       "      <td>1.060000</td>\n",
       "    </tr>\n",
       "    <tr>\n",
       "      <th>3</th>\n",
       "      <td>fruit</td>\n",
       "      <td>apples</td>\n",
       "      <td>braeburn</td>\n",
       "      <td>2021</td>\n",
       "      <td>0.96</td>\n",
       "      <td>1.106423</td>\n",
       "      <td>1.23</td>\n",
       "      <td>0.27</td>\n",
       "      <td>1.635</td>\n",
       "      <td>0.555</td>\n",
       "      <td>0.84</td>\n",
       "      <td>0.840000</td>\n",
       "    </tr>\n",
       "    <tr>\n",
       "      <th>4</th>\n",
       "      <td>fruit</td>\n",
       "      <td>apples</td>\n",
       "      <td>gala</td>\n",
       "      <td>2021</td>\n",
       "      <td>0.96</td>\n",
       "      <td>1.106423</td>\n",
       "      <td>1.23</td>\n",
       "      <td>0.27</td>\n",
       "      <td>1.635</td>\n",
       "      <td>0.555</td>\n",
       "      <td>0.94</td>\n",
       "      <td>0.940000</td>\n",
       "    </tr>\n",
       "  </tbody>\n",
       "</table>\n",
       "</div>"
      ],
      "text/plain": [
       "  category    item            variety  year  priceq1   priceq2  priceq3   iqr  \\\n",
       "0    fruit  apples  bramleys_seedling  2021     0.96  1.106423     1.23  0.27   \n",
       "1    fruit  apples  coxs_orange_group  2021     0.96  1.106423     1.23  0.27   \n",
       "2    fruit  apples    egremont_russet  2021     0.96  1.106423     1.23  0.27   \n",
       "3    fruit  apples           braeburn  2021     0.96  1.106423     1.23  0.27   \n",
       "4    fruit  apples               gala  2021     0.96  1.106423     1.23  0.27   \n",
       "\n",
       "   upper  lower  price  newPrice  \n",
       "0  1.635  0.555   1.69  1.106423  \n",
       "1  1.635  0.555   0.97  0.970000  \n",
       "2  1.635  0.555   1.06  1.060000  \n",
       "3  1.635  0.555   0.84  0.840000  \n",
       "4  1.635  0.555   0.94  0.940000  "
      ]
     },
     "execution_count": 47,
     "metadata": {},
     "output_type": "execute_result"
    }
   ],
   "source": [
    "dft.head(5)"
   ]
  },
  {
   "cell_type": "code",
   "execution_count": 48,
   "id": "63af5d56-b1ee-4def-9b9d-741bc8e5d0d4",
   "metadata": {},
   "outputs": [
    {
     "data": {
      "text/plain": [
       "<AxesSubplot:xlabel='item', ylabel='newPrice'>"
      ]
     },
     "execution_count": 48,
     "metadata": {},
     "output_type": "execute_result"
    },
    {
     "data": {
      "image/png": "[encoded data removed]",
      "text/plain": [
       "<Figure size 432x288 with 1 Axes>"
      ]
     },
     "metadata": {
      "needs_background": "light"
     },
     "output_type": "display_data"
    }
   ],
   "source": [
    "sns.boxplot(data = dft.loc[(dft['category'] == 'fruit') &(dft['item']=='apples') & (dft['year'] == 2021), :], x='item', y='newPrice')"
   ]
  },
  {
   "cell_type": "code",
   "execution_count": 54,
   "id": "218a5972-17e0-4135-a69c-af74c3848066",
   "metadata": {},
   "outputs": [
    {
     "data": {
      "text/plain": [
       "<AxesSubplot:xlabel='item', ylabel='price'>"
      ]
     },
     "execution_count": 54,
     "metadata": {},
     "output_type": "execute_result"
    },
    {
     "data": {
      "image/png": "[encoded data removed]",
      "text/plain": [
       "<Figure size 432x288 with 1 Axes>"
      ]
     },
     "metadata": {
      "needs_background": "light"
     },
     "output_type": "display_data"
    }
   ],
   "source": [
    "sns.boxplot(data = df.loc[(df['category'] == 'fruit') & (df['year'] == 2021), :], x='item', y='price')"
   ]
  },
  {
   "cell_type": "code",
   "execution_count": 50,
   "id": "691b7433-9daf-437e-9c39-26048e2134f4",
   "metadata": {},
   "outputs": [
    {
     "data": {
      "text/plain": [
       "<AxesSubplot:xlabel='item', ylabel='newPrice'>"
      ]
     },
     "execution_count": 50,
     "metadata": {},
     "output_type": "execute_result"
    },
    {
     "data": {
      "image/png": "[encoded data removed]",
      "text/plain": [
       "<Figure size 432x288 with 1 Axes>"
      ]
     },
     "metadata": {
      "needs_background": "light"
     },
     "output_type": "display_data"
    }
   ],
   "source": [
    "sns.boxplot(data = dft.loc[(dft['category'] == 'cut_flowers') & (dft['year'] == 2021), :], x='item', y='newPrice')"
   ]
  },
  {
   "cell_type": "code",
   "execution_count": 51,
   "id": "0e99fba4-f6d6-4028-9a5c-a44abac03ded",
   "metadata": {},
   "outputs": [
    {
     "data": {
      "text/plain": [
       "<AxesSubplot:xlabel='item', ylabel='price'>"
      ]
     },
     "execution_count": 51,
     "metadata": {},
     "output_type": "execute_result"
    },
    {
     "data": {
      "image/png": "[encoded data removed]",
      "text/plain": [
       "<Figure size 432x288 with 1 Axes>"
      ]
     },
     "metadata": {
      "needs_background": "light"
     },
     "output_type": "display_data"
    }
   ],
   "source": [
    "sns.boxplot(data = df.loc[(df['category'] == 'cut_flowers') & (df['year'] == 2021), :], x='item', y='price')"
   ]
  },
  {
   "cell_type": "code",
   "execution_count": 52,
   "id": "b60f9e1a-cf50-40ee-b9d9-3c03536cda36",
   "metadata": {},
   "outputs": [
    {
     "data": {
      "text/plain": [
       "(array([6., 0., 4., 0., 0., 6., 0., 3., 0., 0., 0., 0., 0., 0., 0., 0., 0.,\n",
       "        0., 0., 0., 0., 0., 2., 0., 1.]),\n",
       " array([0.2  , 0.204, 0.208, 0.212, 0.216, 0.22 , 0.224, 0.228, 0.232,\n",
       "        0.236, 0.24 , 0.244, 0.248, 0.252, 0.256, 0.26 , 0.264, 0.268,\n",
       "        0.272, 0.276, 0.28 , 0.284, 0.288, 0.292, 0.296, 0.3  ]),\n",
       " <BarContainer object of 25 artists>)"
      ]
     },
     "execution_count": 52,
     "metadata": {},
     "output_type": "execute_result"
    },
    {
     "data": {
      "image/png": "[encoded data removed]",
      "text/plain": [
       "<Figure size 432x288 with 1 Axes>"
      ]
     },
     "metadata": {
      "needs_background": "light"
     },
     "output_type": "display_data"
    }
   ],
   "source": [
    "plt.hist(x=df.loc[(df['category'] == 'cut_flowers') & (df['item'] == 'tulips') & (df['year'] == 2021),['price']], bins=25, color='black', rwidth=0.80)"
   ]
  },
  {
   "cell_type": "code",
   "execution_count": 53,
   "id": "e1271286-b128-464d-88c9-a56dbfee021f",
   "metadata": {},
   "outputs": [
    {
     "data": {
      "text/plain": [
       "(array([6., 0., 0., 0., 0., 0., 0., 0., 4., 0., 0., 0., 0., 0., 0., 0., 6.,\n",
       "        0., 0., 0., 3., 0., 0., 0., 3.]),\n",
       " array([0.2   , 0.2012, 0.2024, 0.2036, 0.2048, 0.206 , 0.2072, 0.2084,\n",
       "        0.2096, 0.2108, 0.212 , 0.2132, 0.2144, 0.2156, 0.2168, 0.218 ,\n",
       "        0.2192, 0.2204, 0.2216, 0.2228, 0.224 , 0.2252, 0.2264, 0.2276,\n",
       "        0.2288, 0.23  ]),\n",
       " <BarContainer object of 25 artists>)"
      ]
     },
     "execution_count": 53,
     "metadata": {},
     "output_type": "execute_result"
    },
    {
     "data": {
      "image/png": "[encoded data removed]",
      "text/plain": [
       "<Figure size 432x288 with 1 Axes>"
      ]
     },
     "metadata": {
      "needs_background": "light"
     },
     "output_type": "display_data"
    }
   ],
   "source": [
    "plt.hist(x=dft.loc[(dft['category'] == 'cut_flowers') & (dft['item'] == 'tulips') & (dft['year'] == 2021),['newPrice']], bins=25, color='black', rwidth=0.80)"
   ]
  }
 ],
 "metadata": {
  "kernelspec": {
   "display_name": "Python 3 (ipykernel)",
   "language": "python",
   "name": "python3"
  },
  "language_info": {
   "codemirror_mode": {
    "name": "ipython",
    "version": 3
   },
   "file_extension": ".py",
   "mimetype": "text/x-python",
   "name": "python",
   "nbconvert_exporter": "python",
   "pygments_lexer": "ipython3",
   "version": "3.9.12"
  }
 },
 "nbformat": 4,
 "nbformat_minor": 5
}
