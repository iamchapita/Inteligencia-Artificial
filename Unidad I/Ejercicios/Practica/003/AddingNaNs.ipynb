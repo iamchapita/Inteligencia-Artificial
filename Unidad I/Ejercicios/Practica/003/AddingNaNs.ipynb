{
 "cells": [
  {
   "cell_type": "markdown",
   "id": "c133120c-a76b-40db-9730-2d1f54017f82",
   "metadata": {},
   "source": [
    "# Manipulate Datasets 2018 and 2019"
   ]
  },
  {
   "cell_type": "code",
   "execution_count": 14,
   "id": "ea110c07-b097-44f3-9b39-96be642328d8",
   "metadata": {},
   "outputs": [],
   "source": [
    "import pandas as pd\n",
    "import numpy as np"
   ]
  },
  {
   "cell_type": "code",
   "execution_count": 77,
   "id": "5a96459e-6be6-4a5d-bf80-8e80cf8dd351",
   "metadata": {},
   "outputs": [],
   "source": [
    "wh2018 = pd.read_csv('2018.csv')\n",
    "wh2019 = pd.read_csv('2019.csv')"
   ]
  },
  {
   "cell_type": "code",
   "execution_count": 78,
   "id": "1ad6232e-70a2-430d-8d8c-cd25799c1bee",
   "metadata": {},
   "outputs": [],
   "source": [
    "for c_ in wh2019.columns:\n",
    "    if c_ not in ['Overall rank','Country or region']:\n",
    "        limit = np.random.randint(2,20)\n",
    "        for i in range( 1 , limit  ):\n",
    "            wh2019.loc[ wh2019['Overall rank'] == np.random.randint(0, wh2019.shape[0]) , c_ ] = np.NaN"
   ]
  },
  {
   "cell_type": "code",
   "execution_count": 86,
   "id": "809e2390-19f4-43a5-9631-f40963fb0c34",
   "metadata": {},
   "outputs": [],
   "source": [
    "for c_ in wh2018.columns:\n",
    "    if c_ not in ['Overall rank','Country or region']:\n",
    "        limit = np.random.randint(2,20)\n",
    "        for i in range( 1 , limit  ):\n",
    "            wh2018.loc[ wh2018['Overall rank'] == np.random.randint(0, wh2018.shape[0]) , c_ ] = np.NaN"
   ]
  },
  {
   "cell_type": "code",
   "execution_count": 88,
   "id": "41b84d2d-0095-447b-bc2b-55cb5aad9994",
   "metadata": {},
   "outputs": [],
   "source": [
    "wh2018.to_csv('2018_v2.csv',index=False)"
   ]
  },
  {
   "cell_type": "code",
   "execution_count": 89,
   "id": "c5dcb439-1eb6-4bd4-9dc9-5ed1bc6fc6ec",
   "metadata": {},
   "outputs": [],
   "source": [
    "wh2019.to_csv('2019_v2.csv',index=False)"
   ]
  },
  {
   "cell_type": "code",
   "execution_count": null,
   "id": "5ac9b7ec-1190-4a13-bbdb-bb3b741ce647",
   "metadata": {},
   "outputs": [],
   "source": []
  }
 ],
 "metadata": {
  "kernelspec": {
   "display_name": "Python 3",
   "language": "python",
   "name": "python3"
  },
  "language_info": {
   "codemirror_mode": {
    "name": "ipython",
    "version": 3
   },
   "file_extension": ".py",
   "mimetype": "text/x-python",
   "name": "python",
   "nbconvert_exporter": "python",
   "pygments_lexer": "ipython3",
   "version": "3.8.8"
  }
 },
 "nbformat": 4,
 "nbformat_minor": 5
}
