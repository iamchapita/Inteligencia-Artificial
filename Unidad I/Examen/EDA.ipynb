{
 "cells": [
  {
   "cell_type": "code",
   "execution_count": 1,
   "id": "f536e8d0-95dc-4cc8-952b-c045ea2c89f8",
   "metadata": {},
   "outputs": [],
   "source": [
    "import pandas as pd\n",
    "import numpy as np\n",
    "\n",
    "from datetime import date"
   ]
  },
  {
   "cell_type": "markdown",
   "id": "585e931c-47dd-4420-b433-65546f980570",
   "metadata": {},
   "source": [
    "### Importando dataset e-commerce\n",
    "\n",
    "Para mas informacion del dataset, consulte en el siguiente [link](https://www.kaggle.com/datasets/carrie1/ecommerce-data) "
   ]
  },
  {
   "cell_type": "code",
   "execution_count": 2,
   "id": "9015229e-beac-4546-bf9d-deeecec148f8",
   "metadata": {},
   "outputs": [],
   "source": [
    "ecommerce = pd.read_csv(\"Data.csv\")"
   ]
  },
  {
   "cell_type": "code",
   "execution_count": 3,
   "id": "3f1a91b1-2a14-4e75-8c45-417b78cf1310",
   "metadata": {},
   "outputs": [
    {
     "data": {
      "text/plain": [
       "(541909, 8)"
      ]
     },
     "execution_count": 3,
     "metadata": {},
     "output_type": "execute_result"
    }
   ],
   "source": [
    "ecommerce.shape"
   ]
  },
  {
   "cell_type": "markdown",
   "id": "8650b37c-cd28-4923-ae94-908dadf4bf69",
   "metadata": {},
   "source": [
    "### cast de fechas y tratamiento de columnas Dias, mes, año"
   ]
  },
  {
   "cell_type": "code",
   "execution_count": 4,
   "id": "4523f5e7-902a-4057-b5c7-66c9eea3e63f",
   "metadata": {},
   "outputs": [
    {
     "data": {
      "text/plain": [
       "InvoiceNo       object\n",
       "StockCode       object\n",
       "Description     object\n",
       "Quantity         int64\n",
       "InvoiceDate     object\n",
       "UnitPrice      float64\n",
       "CustomerID     float64\n",
       "Country         object\n",
       "dtype: object"
      ]
     },
     "execution_count": 4,
     "metadata": {},
     "output_type": "execute_result"
    }
   ],
   "source": [
    "ecommerce.dtypes"
   ]
  },
  {
   "cell_type": "code",
   "execution_count": 5,
   "id": "1b6dc6a7-c51b-445f-89df-7a8da46950bb",
   "metadata": {},
   "outputs": [],
   "source": [
    "ecommerce[\"InvoiceDate\"] = pd.to_datetime(ecommerce[\"InvoiceDate\"])"
   ]
  },
  {
   "cell_type": "code",
   "execution_count": 6,
   "id": "5948f0a8-8a04-4bd0-b111-919ce302e0a8",
   "metadata": {},
   "outputs": [
    {
     "data": {
      "text/plain": [
       "InvoiceNo              object\n",
       "StockCode              object\n",
       "Description            object\n",
       "Quantity                int64\n",
       "InvoiceDate    datetime64[ns]\n",
       "UnitPrice             float64\n",
       "CustomerID            float64\n",
       "Country                object\n",
       "dtype: object"
      ]
     },
     "execution_count": 6,
     "metadata": {},
     "output_type": "execute_result"
    }
   ],
   "source": [
    "ecommerce.dtypes"
   ]
  },
  {
   "cell_type": "code",
   "execution_count": 7,
   "id": "3bf11eef-d788-4bfd-b5f0-37768065e74c",
   "metadata": {},
   "outputs": [
    {
     "data": {
      "text/html": [
       "<div>\n",
       "<style scoped>\n",
       "    .dataframe tbody tr th:only-of-type {\n",
       "        vertical-align: middle;\n",
       "    }\n",
       "\n",
       "    .dataframe tbody tr th {\n",
       "        vertical-align: top;\n",
       "    }\n",
       "\n",
       "    .dataframe thead th {\n",
       "        text-align: right;\n",
       "    }\n",
       "</style>\n",
       "<table border=\"1\" class=\"dataframe\">\n",
       "  <thead>\n",
       "    <tr style=\"text-align: right;\">\n",
       "      <th></th>\n",
       "      <th>InvoiceNo</th>\n",
       "      <th>StockCode</th>\n",
       "      <th>Description</th>\n",
       "      <th>Quantity</th>\n",
       "      <th>InvoiceDate</th>\n",
       "      <th>UnitPrice</th>\n",
       "      <th>CustomerID</th>\n",
       "      <th>Country</th>\n",
       "    </tr>\n",
       "  </thead>\n",
       "  <tbody>\n",
       "    <tr>\n",
       "      <th>0</th>\n",
       "      <td>536365</td>\n",
       "      <td>85123A</td>\n",
       "      <td>WHITE HANGING HEART T-LIGHT HOLDER</td>\n",
       "      <td>6</td>\n",
       "      <td>2010-12-01 08:26:00</td>\n",
       "      <td>2.55</td>\n",
       "      <td>17850.0</td>\n",
       "      <td>United Kingdom</td>\n",
       "    </tr>\n",
       "  </tbody>\n",
       "</table>\n",
       "</div>"
      ],
      "text/plain": [
       "  InvoiceNo StockCode                         Description  Quantity  \\\n",
       "0    536365    85123A  WHITE HANGING HEART T-LIGHT HOLDER         6   \n",
       "\n",
       "          InvoiceDate  UnitPrice  CustomerID         Country  \n",
       "0 2010-12-01 08:26:00       2.55     17850.0  United Kingdom  "
      ]
     },
     "execution_count": 7,
     "metadata": {},
     "output_type": "execute_result"
    }
   ],
   "source": [
    "ecommerce.head(1)"
   ]
  },
  {
   "cell_type": "code",
   "execution_count": 8,
   "id": "31abe82c-bd2d-4dfa-adfb-46fc2919743d",
   "metadata": {},
   "outputs": [],
   "source": [
    "ecommerce[\"year\"] = ecommerce[\"InvoiceDate\"].dt.year\n",
    "ecommerce[\"month\"] = ecommerce[\"InvoiceDate\"].dt.month\n",
    "ecommerce[\"day\"] = ecommerce[\"InvoiceDate\"].dt.day"
   ]
  },
  {
   "cell_type": "code",
   "execution_count": 9,
   "id": "8d470a46-bd5c-4346-bbce-04172ab0592c",
   "metadata": {},
   "outputs": [
    {
     "data": {
      "text/html": [
       "<div>\n",
       "<style scoped>\n",
       "    .dataframe tbody tr th:only-of-type {\n",
       "        vertical-align: middle;\n",
       "    }\n",
       "\n",
       "    .dataframe tbody tr th {\n",
       "        vertical-align: top;\n",
       "    }\n",
       "\n",
       "    .dataframe thead th {\n",
       "        text-align: right;\n",
       "    }\n",
       "</style>\n",
       "<table border=\"1\" class=\"dataframe\">\n",
       "  <thead>\n",
       "    <tr style=\"text-align: right;\">\n",
       "      <th></th>\n",
       "      <th>InvoiceNo</th>\n",
       "      <th>StockCode</th>\n",
       "      <th>Description</th>\n",
       "      <th>Quantity</th>\n",
       "      <th>InvoiceDate</th>\n",
       "      <th>UnitPrice</th>\n",
       "      <th>CustomerID</th>\n",
       "      <th>Country</th>\n",
       "      <th>year</th>\n",
       "      <th>month</th>\n",
       "      <th>day</th>\n",
       "    </tr>\n",
       "  </thead>\n",
       "  <tbody>\n",
       "    <tr>\n",
       "      <th>0</th>\n",
       "      <td>536365</td>\n",
       "      <td>85123A</td>\n",
       "      <td>WHITE HANGING HEART T-LIGHT HOLDER</td>\n",
       "      <td>6</td>\n",
       "      <td>2010-12-01 08:26:00</td>\n",
       "      <td>2.55</td>\n",
       "      <td>17850.0</td>\n",
       "      <td>United Kingdom</td>\n",
       "      <td>2010</td>\n",
       "      <td>12</td>\n",
       "      <td>1</td>\n",
       "    </tr>\n",
       "  </tbody>\n",
       "</table>\n",
       "</div>"
      ],
      "text/plain": [
       "  InvoiceNo StockCode                         Description  Quantity  \\\n",
       "0    536365    85123A  WHITE HANGING HEART T-LIGHT HOLDER         6   \n",
       "\n",
       "          InvoiceDate  UnitPrice  CustomerID         Country  year  month  day  \n",
       "0 2010-12-01 08:26:00       2.55     17850.0  United Kingdom  2010     12    1  "
      ]
     },
     "execution_count": 9,
     "metadata": {},
     "output_type": "execute_result"
    }
   ],
   "source": [
    "ecommerce.head(1)"
   ]
  },
  {
   "cell_type": "markdown",
   "id": "44b41184-9937-4ca6-85a8-11bb254c26fc",
   "metadata": {},
   "source": [
    "#### Exploracion de paises"
   ]
  },
  {
   "cell_type": "code",
   "execution_count": 10,
   "id": "46440f57-adfa-497f-a35d-ebf67b2d5a63",
   "metadata": {},
   "outputs": [
    {
     "data": {
      "text/plain": [
       "0               United Kingdom\n",
       "26                      France\n",
       "197                  Australia\n",
       "385                Netherlands\n",
       "1109                   Germany\n",
       "1236                    Norway\n",
       "1404                      EIRE\n",
       "5320               Switzerland\n",
       "6421                     Spain\n",
       "6608                    Poland\n",
       "7134                  Portugal\n",
       "7214                     Italy\n",
       "7279                   Belgium\n",
       "7986                 Lithuania\n",
       "9783                     Japan\n",
       "14938                  Iceland\n",
       "20000          Channel Islands\n",
       "20017                  Denmark\n",
       "29732                   Cyprus\n",
       "30078                   Sweden\n",
       "31464                  Austria\n",
       "31982                   Israel\n",
       "34083                  Finland\n",
       "38313                  Bahrain\n",
       "69007                   Greece\n",
       "69623                Hong Kong\n",
       "70758                Singapore\n",
       "72985                  Lebanon\n",
       "89570     United Arab Emirates\n",
       "100810            Saudi Arabia\n",
       "103598          Czech Republic\n",
       "119191                  Canada\n",
       "152712             Unspecified\n",
       "157299                  Brazil\n",
       "164464                     USA\n",
       "168149      European Community\n",
       "217684                   Malta\n",
       "395472                     RSA\n",
       "Name: Country, dtype: object"
      ]
     },
     "execution_count": 10,
     "metadata": {},
     "output_type": "execute_result"
    }
   ],
   "source": [
    "ecommerce[\"Country\"].drop_duplicates()"
   ]
  },
  {
   "cell_type": "markdown",
   "id": "59467bac-70e6-495b-ad2a-151cafb1fd81",
   "metadata": {},
   "source": [
    "### Ejercicios"
   ]
  },
  {
   "cell_type": "markdown",
   "id": "70bb9dfe-ecad-4be0-a0fa-c480d8a1f897",
   "metadata": {},
   "source": [
    "**Ejercicio 1:** Por pais muestre cual fue el año en el que mejor ingreso se registro y su valor, adicional muestre cual fue el año con mas Invoices (Frecuencia) y otra columna con el total.\n",
    "\n",
    "Nota: Note que el año con mejor ingreso no es lo mismo con el año con mas invoices, por ejemplo en 2019 Honduras en dos invoices se facturo 10,000. sin embargo, en 2020 se realizaron 20 invoices (pueda que en este año el ingreso de esas invoices hayan sumado 7,000 inferior al 2020) \n",
    "\n",
    "*recuerde que el ejemplo es inventado*\n",
    "\n",
    "Ejemplo de como se deberia de ver el dataframe resultante:\n"
   ]
  },
  {
   "cell_type": "code",
   "execution_count": 11,
   "id": "55fe6436-310a-419a-81e0-6afcb8d382fe",
   "metadata": {},
   "outputs": [
    {
     "data": {
      "text/html": [
       "<div>\n",
       "<style scoped>\n",
       "    .dataframe tbody tr th:only-of-type {\n",
       "        vertical-align: middle;\n",
       "    }\n",
       "\n",
       "    .dataframe tbody tr th {\n",
       "        vertical-align: top;\n",
       "    }\n",
       "\n",
       "    .dataframe thead th {\n",
       "        text-align: right;\n",
       "    }\n",
       "</style>\n",
       "<table border=\"1\" class=\"dataframe\">\n",
       "  <thead>\n",
       "    <tr style=\"text-align: right;\">\n",
       "      <th></th>\n",
       "      <th>country</th>\n",
       "      <th>YearMejorIngreso</th>\n",
       "      <th>ValorYearMejorIngreso</th>\n",
       "      <th>YearMejorFrecuenciaInvoices</th>\n",
       "      <th>CantidadYearMejorFrecuenciaInvoices</th>\n",
       "    </tr>\n",
       "  </thead>\n",
       "  <tbody>\n",
       "    <tr>\n",
       "      <th>0</th>\n",
       "      <td>Honduras</td>\n",
       "      <td>2019</td>\n",
       "      <td>20000</td>\n",
       "      <td>2020</td>\n",
       "      <td>20</td>\n",
       "    </tr>\n",
       "  </tbody>\n",
       "</table>\n",
       "</div>"
      ],
      "text/plain": [
       "    country  YearMejorIngreso  ValorYearMejorIngreso  \\\n",
       "0  Honduras              2019                  20000   \n",
       "\n",
       "   YearMejorFrecuenciaInvoices  CantidadYearMejorFrecuenciaInvoices  \n",
       "0                         2020                                   20  "
      ]
     },
     "execution_count": 11,
     "metadata": {},
     "output_type": "execute_result"
    }
   ],
   "source": [
    "pd.DataFrame({\n",
    "    \"country\" : [\"Honduras\"]\n",
    "    , \"YearMejorIngreso\" : [2019]\n",
    "    , \"ValorYearMejorIngreso\" : [20000]\n",
    "    , \"YearMejorFrecuenciaInvoices\": [2020]\n",
    "    , \"CantidadYearMejorFrecuenciaInvoices\": [20]\n",
    "})"
   ]
  },
  {
   "cell_type": "markdown",
   "id": "cff03062-89d2-4e55-b2ee-29c492828efa",
   "metadata": {},
   "source": [
    "*Answer:*"
   ]
  },
  {
   "cell_type": "code",
   "execution_count": 12,
   "id": "7551b107-c095-42d0-a788-3474460204d4",
   "metadata": {},
   "outputs": [],
   "source": [
    "ecommerce['SubPrice'] = ecommerce.apply(lambda r: r['Quantity'] * r['UnitPrice'], axis=1)"
   ]
  },
  {
   "cell_type": "code",
   "execution_count": 13,
   "id": "89ab222a-abf9-4c6f-a7dc-6586dd8d186f",
   "metadata": {},
   "outputs": [],
   "source": [
    "oneA = ecommerce.copy()"
   ]
  },
  {
   "cell_type": "code",
   "execution_count": 14,
   "id": "d3b170df-71d5-40ce-ad35-bea143edcc38",
   "metadata": {},
   "outputs": [],
   "source": [
    "oneA = oneA.loc[:, ['InvoiceNo','InvoiceDate', 'CustomerID', 'Country', 'year', 'month', 'day', 'SubPrice']]"
   ]
  },
  {
   "cell_type": "code",
   "execution_count": 15,
   "id": "bce84040-33db-4ae1-9329-4e20674100dd",
   "metadata": {},
   "outputs": [],
   "source": [
    "oneA = oneA.groupby(['InvoiceDate', 'CustomerID', 'Country', 'year', 'month', 'day'], as_index=False).agg({'SubPrice': ['sum']})"
   ]
  },
  {
   "cell_type": "code",
   "execution_count": 16,
   "id": "8d6aeec0-2a67-439b-9dbc-4b93c2a07622",
   "metadata": {},
   "outputs": [],
   "source": [
    "oneA.columns = oneA.columns.droplevel(1)"
   ]
  },
  {
   "cell_type": "code",
   "execution_count": 17,
   "id": "9aa5dbc5-7314-466f-8e98-f72583d764f0",
   "metadata": {},
   "outputs": [],
   "source": [
    "oneA = oneA.loc[:, ['Country', 'year', 'SubPrice']]"
   ]
  },
  {
   "cell_type": "code",
   "execution_count": 18,
   "id": "d34680c8-b19b-4f30-aaa1-392e8cdbc667",
   "metadata": {},
   "outputs": [],
   "source": [
    "oneA = oneA.groupby(['Country', 'year'], as_index=False).agg({'SubPrice': ['sum']})"
   ]
  },
  {
   "cell_type": "code",
   "execution_count": 19,
   "id": "176d8643-8c54-4b59-9069-a64a96f28574",
   "metadata": {},
   "outputs": [],
   "source": [
    "oneA.columns = oneA.columns.droplevel(1)"
   ]
  },
  {
   "cell_type": "code",
   "execution_count": 20,
   "id": "9e48bd1f-1a3f-41c8-85fb-8fc1cba1f3da",
   "metadata": {},
   "outputs": [],
   "source": [
    "oneA = oneA.sort_values(['SubPrice'], ascending=False)"
   ]
  },
  {
   "cell_type": "code",
   "execution_count": 21,
   "id": "172ed3ba-934a-4d1b-bd55-9417d1a317d8",
   "metadata": {},
   "outputs": [],
   "source": [
    "oneA['order'] = oneA.groupby(['Country'], as_index=False).cumcount()"
   ]
  },
  {
   "cell_type": "code",
   "execution_count": 22,
   "id": "08936008-6d2f-4979-b493-a0e07c551ee9",
   "metadata": {},
   "outputs": [],
   "source": [
    "oneA = oneA.loc[oneA['order'] == 0, ['Country','year', 'SubPrice']]"
   ]
  },
  {
   "cell_type": "code",
   "execution_count": 23,
   "id": "5d942d48-c1c8-4884-b100-fa25ec6b1ee1",
   "metadata": {},
   "outputs": [],
   "source": [
    "oneA.columns = ['Country', 'YearMejorIngreso', 'ValorYearMejorIngreso']"
   ]
  },
  {
   "cell_type": "code",
   "execution_count": 24,
   "id": "6648fe32-a355-4bae-a708-77ab16352884",
   "metadata": {},
   "outputs": [],
   "source": [
    "oneB = ecommerce.copy()"
   ]
  },
  {
   "cell_type": "code",
   "execution_count": 25,
   "id": "ab0ee8f7-d59f-43e7-ad92-3988705483a1",
   "metadata": {},
   "outputs": [],
   "source": [
    "oneB = oneB.groupby(['Country', 'year'], as_index=False).agg({'InvoiceNo':['count']})"
   ]
  },
  {
   "cell_type": "code",
   "execution_count": 26,
   "id": "d0c5e720-a515-4e05-8fcd-0233e045e16f",
   "metadata": {},
   "outputs": [],
   "source": [
    "oneB.columns = oneB.columns.droplevel(1)"
   ]
  },
  {
   "cell_type": "code",
   "execution_count": 27,
   "id": "de7970f9-ac92-45d5-a614-f212fa3b1b73",
   "metadata": {},
   "outputs": [],
   "source": [
    "oneB.columns = ['Country', 'year', 'Frecuencia']"
   ]
  },
  {
   "cell_type": "code",
   "execution_count": 28,
   "id": "72178d80-463b-416a-abc5-e9c122846f16",
   "metadata": {},
   "outputs": [],
   "source": [
    "oneB = oneB.sort_values(['Frecuencia'], ascending=False)"
   ]
  },
  {
   "cell_type": "code",
   "execution_count": 29,
   "id": "aafa303a-a845-4b07-a488-8d56a07022f9",
   "metadata": {},
   "outputs": [],
   "source": [
    "oneB['cumCount'] = oneB.groupby(['Country'], as_index=False).cumcount()"
   ]
  },
  {
   "cell_type": "code",
   "execution_count": 30,
   "id": "c002b6a6-12d4-45eb-89ec-9a6f6b22d4cd",
   "metadata": {},
   "outputs": [],
   "source": [
    "oneB = oneB.loc[oneB['cumCount'] == 0, ['Country', 'year', 'Frecuencia']]"
   ]
  },
  {
   "cell_type": "code",
   "execution_count": 31,
   "id": "15dc8b7b-3f04-48aa-8a57-752b4f1a8901",
   "metadata": {},
   "outputs": [],
   "source": [
    "oneB.columns = ['Country', 'YearMejorFrecuenciaInvoices', 'CantidadYearMejorFrecuenciaInvoices']"
   ]
  },
  {
   "cell_type": "code",
   "execution_count": 32,
   "id": "9001db83-3b43-4cc2-959d-4635ce04712c",
   "metadata": {},
   "outputs": [],
   "source": [
    "mergerd = pd.merge(oneA, oneB, left_on='Country', right_on='Country')"
   ]
  },
  {
   "cell_type": "code",
   "execution_count": 33,
   "id": "9e4c6c18-100e-4e60-a03c-823f6b9f2a64",
   "metadata": {},
   "outputs": [],
   "source": [
    "mergerd = mergerd.loc[:, ['Country', 'YearMejorIngreso', 'ValorYearMejorIngreso', 'YearMejorFrecuenciaInvoices', 'CantidadYearMejorFrecuenciaInvoices']]"
   ]
  },
  {
   "cell_type": "code",
   "execution_count": 34,
   "id": "b5d0cf43-179f-4520-993b-595a004f5db8",
   "metadata": {},
   "outputs": [
    {
     "data": {
      "text/html": [
       "<div>\n",
       "<style scoped>\n",
       "    .dataframe tbody tr th:only-of-type {\n",
       "        vertical-align: middle;\n",
       "    }\n",
       "\n",
       "    .dataframe tbody tr th {\n",
       "        vertical-align: top;\n",
       "    }\n",
       "\n",
       "    .dataframe thead th {\n",
       "        text-align: right;\n",
       "    }\n",
       "</style>\n",
       "<table border=\"1\" class=\"dataframe\">\n",
       "  <thead>\n",
       "    <tr style=\"text-align: right;\">\n",
       "      <th></th>\n",
       "      <th>Country</th>\n",
       "      <th>YearMejorIngreso</th>\n",
       "      <th>ValorYearMejorIngreso</th>\n",
       "      <th>YearMejorFrecuenciaInvoices</th>\n",
       "      <th>CantidadYearMejorFrecuenciaInvoices</th>\n",
       "    </tr>\n",
       "  </thead>\n",
       "  <tbody>\n",
       "    <tr>\n",
       "      <th>0</th>\n",
       "      <td>United Kingdom</td>\n",
       "      <td>2011</td>\n",
       "      <td>6284073.654</td>\n",
       "      <td>2011</td>\n",
       "      <td>455353</td>\n",
       "    </tr>\n",
       "    <tr>\n",
       "      <th>1</th>\n",
       "      <td>Netherlands</td>\n",
       "      <td>2011</td>\n",
       "      <td>275877.060</td>\n",
       "      <td>2011</td>\n",
       "      <td>2299</td>\n",
       "    </tr>\n",
       "    <tr>\n",
       "      <th>2</th>\n",
       "      <td>EIRE</td>\n",
       "      <td>2011</td>\n",
       "      <td>242459.650</td>\n",
       "      <td>2011</td>\n",
       "      <td>7793</td>\n",
       "    </tr>\n",
       "    <tr>\n",
       "      <th>3</th>\n",
       "      <td>Germany</td>\n",
       "      <td>2011</td>\n",
       "      <td>207135.370</td>\n",
       "      <td>2011</td>\n",
       "      <td>8930</td>\n",
       "    </tr>\n",
       "    <tr>\n",
       "      <th>4</th>\n",
       "      <td>France</td>\n",
       "      <td>2011</td>\n",
       "      <td>187137.480</td>\n",
       "      <td>2011</td>\n",
       "      <td>8118</td>\n",
       "    </tr>\n",
       "    <tr>\n",
       "      <th>5</th>\n",
       "      <td>Australia</td>\n",
       "      <td>2011</td>\n",
       "      <td>136072.170</td>\n",
       "      <td>2011</td>\n",
       "      <td>1224</td>\n",
       "    </tr>\n",
       "    <tr>\n",
       "      <th>6</th>\n",
       "      <td>Switzerland</td>\n",
       "      <td>2011</td>\n",
       "      <td>54434.480</td>\n",
       "      <td>2011</td>\n",
       "      <td>1953</td>\n",
       "    </tr>\n",
       "    <tr>\n",
       "      <th>7</th>\n",
       "      <td>Spain</td>\n",
       "      <td>2011</td>\n",
       "      <td>52930.850</td>\n",
       "      <td>2011</td>\n",
       "      <td>2458</td>\n",
       "    </tr>\n",
       "    <tr>\n",
       "      <th>8</th>\n",
       "      <td>Belgium</td>\n",
       "      <td>2011</td>\n",
       "      <td>39101.050</td>\n",
       "      <td>2011</td>\n",
       "      <td>1974</td>\n",
       "    </tr>\n",
       "    <tr>\n",
       "      <th>9</th>\n",
       "      <td>Sweden</td>\n",
       "      <td>2011</td>\n",
       "      <td>33949.610</td>\n",
       "      <td>2011</td>\n",
       "      <td>435</td>\n",
       "    </tr>\n",
       "    <tr>\n",
       "      <th>10</th>\n",
       "      <td>Norway</td>\n",
       "      <td>2011</td>\n",
       "      <td>31376.340</td>\n",
       "      <td>2011</td>\n",
       "      <td>939</td>\n",
       "    </tr>\n",
       "    <tr>\n",
       "      <th>11</th>\n",
       "      <td>Japan</td>\n",
       "      <td>2011</td>\n",
       "      <td>27635.550</td>\n",
       "      <td>2011</td>\n",
       "      <td>293</td>\n",
       "    </tr>\n",
       "    <tr>\n",
       "      <th>12</th>\n",
       "      <td>Portugal</td>\n",
       "      <td>2011</td>\n",
       "      <td>26679.690</td>\n",
       "      <td>2011</td>\n",
       "      <td>1399</td>\n",
       "    </tr>\n",
       "    <tr>\n",
       "      <th>13</th>\n",
       "      <td>Finland</td>\n",
       "      <td>2011</td>\n",
       "      <td>21433.940</td>\n",
       "      <td>2011</td>\n",
       "      <td>678</td>\n",
       "    </tr>\n",
       "    <tr>\n",
       "      <th>14</th>\n",
       "      <td>Channel Islands</td>\n",
       "      <td>2011</td>\n",
       "      <td>19722.760</td>\n",
       "      <td>2011</td>\n",
       "      <td>741</td>\n",
       "    </tr>\n",
       "    <tr>\n",
       "      <th>15</th>\n",
       "      <td>Denmark</td>\n",
       "      <td>2011</td>\n",
       "      <td>17486.640</td>\n",
       "      <td>2011</td>\n",
       "      <td>369</td>\n",
       "    </tr>\n",
       "    <tr>\n",
       "      <th>16</th>\n",
       "      <td>Italy</td>\n",
       "      <td>2011</td>\n",
       "      <td>16096.010</td>\n",
       "      <td>2011</td>\n",
       "      <td>762</td>\n",
       "    </tr>\n",
       "    <tr>\n",
       "      <th>17</th>\n",
       "      <td>Cyprus</td>\n",
       "      <td>2011</td>\n",
       "      <td>11355.470</td>\n",
       "      <td>2011</td>\n",
       "      <td>539</td>\n",
       "    </tr>\n",
       "    <tr>\n",
       "      <th>18</th>\n",
       "      <td>Austria</td>\n",
       "      <td>2011</td>\n",
       "      <td>9897.280</td>\n",
       "      <td>2011</td>\n",
       "      <td>392</td>\n",
       "    </tr>\n",
       "    <tr>\n",
       "      <th>19</th>\n",
       "      <td>Singapore</td>\n",
       "      <td>2011</td>\n",
       "      <td>9120.390</td>\n",
       "      <td>2011</td>\n",
       "      <td>229</td>\n",
       "    </tr>\n",
       "    <tr>\n",
       "      <th>20</th>\n",
       "      <td>Israel</td>\n",
       "      <td>2011</td>\n",
       "      <td>7221.690</td>\n",
       "      <td>2011</td>\n",
       "      <td>295</td>\n",
       "    </tr>\n",
       "    <tr>\n",
       "      <th>21</th>\n",
       "      <td>Poland</td>\n",
       "      <td>2011</td>\n",
       "      <td>6964.980</td>\n",
       "      <td>2011</td>\n",
       "      <td>333</td>\n",
       "    </tr>\n",
       "    <tr>\n",
       "      <th>22</th>\n",
       "      <td>Greece</td>\n",
       "      <td>2011</td>\n",
       "      <td>4710.520</td>\n",
       "      <td>2011</td>\n",
       "      <td>146</td>\n",
       "    </tr>\n",
       "    <tr>\n",
       "      <th>23</th>\n",
       "      <td>Canada</td>\n",
       "      <td>2011</td>\n",
       "      <td>3666.380</td>\n",
       "      <td>2011</td>\n",
       "      <td>151</td>\n",
       "    </tr>\n",
       "    <tr>\n",
       "      <th>24</th>\n",
       "      <td>Iceland</td>\n",
       "      <td>2011</td>\n",
       "      <td>3598.210</td>\n",
       "      <td>2011</td>\n",
       "      <td>151</td>\n",
       "    </tr>\n",
       "    <tr>\n",
       "      <th>25</th>\n",
       "      <td>Unspecified</td>\n",
       "      <td>2011</td>\n",
       "      <td>2667.070</td>\n",
       "      <td>2011</td>\n",
       "      <td>446</td>\n",
       "    </tr>\n",
       "    <tr>\n",
       "      <th>26</th>\n",
       "      <td>Malta</td>\n",
       "      <td>2011</td>\n",
       "      <td>2505.470</td>\n",
       "      <td>2011</td>\n",
       "      <td>127</td>\n",
       "    </tr>\n",
       "    <tr>\n",
       "      <th>27</th>\n",
       "      <td>United Arab Emirates</td>\n",
       "      <td>2011</td>\n",
       "      <td>1902.280</td>\n",
       "      <td>2011</td>\n",
       "      <td>68</td>\n",
       "    </tr>\n",
       "    <tr>\n",
       "      <th>28</th>\n",
       "      <td>USA</td>\n",
       "      <td>2011</td>\n",
       "      <td>1730.920</td>\n",
       "      <td>2011</td>\n",
       "      <td>291</td>\n",
       "    </tr>\n",
       "    <tr>\n",
       "      <th>29</th>\n",
       "      <td>Lebanon</td>\n",
       "      <td>2011</td>\n",
       "      <td>1693.880</td>\n",
       "      <td>2011</td>\n",
       "      <td>45</td>\n",
       "    </tr>\n",
       "    <tr>\n",
       "      <th>30</th>\n",
       "      <td>Lithuania</td>\n",
       "      <td>2010</td>\n",
       "      <td>1661.060</td>\n",
       "      <td>2010</td>\n",
       "      <td>35</td>\n",
       "    </tr>\n",
       "    <tr>\n",
       "      <th>31</th>\n",
       "      <td>European Community</td>\n",
       "      <td>2011</td>\n",
       "      <td>1291.750</td>\n",
       "      <td>2011</td>\n",
       "      <td>61</td>\n",
       "    </tr>\n",
       "    <tr>\n",
       "      <th>32</th>\n",
       "      <td>Brazil</td>\n",
       "      <td>2011</td>\n",
       "      <td>1143.600</td>\n",
       "      <td>2011</td>\n",
       "      <td>32</td>\n",
       "    </tr>\n",
       "    <tr>\n",
       "      <th>33</th>\n",
       "      <td>RSA</td>\n",
       "      <td>2011</td>\n",
       "      <td>1002.310</td>\n",
       "      <td>2011</td>\n",
       "      <td>58</td>\n",
       "    </tr>\n",
       "    <tr>\n",
       "      <th>34</th>\n",
       "      <td>Czech Republic</td>\n",
       "      <td>2011</td>\n",
       "      <td>707.720</td>\n",
       "      <td>2011</td>\n",
       "      <td>30</td>\n",
       "    </tr>\n",
       "    <tr>\n",
       "      <th>35</th>\n",
       "      <td>Bahrain</td>\n",
       "      <td>2011</td>\n",
       "      <td>548.400</td>\n",
       "      <td>2011</td>\n",
       "      <td>18</td>\n",
       "    </tr>\n",
       "    <tr>\n",
       "      <th>36</th>\n",
       "      <td>Saudi Arabia</td>\n",
       "      <td>2011</td>\n",
       "      <td>131.170</td>\n",
       "      <td>2011</td>\n",
       "      <td>10</td>\n",
       "    </tr>\n",
       "  </tbody>\n",
       "</table>\n",
       "</div>"
      ],
      "text/plain": [
       "                 Country  YearMejorIngreso  ValorYearMejorIngreso  \\\n",
       "0         United Kingdom              2011            6284073.654   \n",
       "1            Netherlands              2011             275877.060   \n",
       "2                   EIRE              2011             242459.650   \n",
       "3                Germany              2011             207135.370   \n",
       "4                 France              2011             187137.480   \n",
       "5              Australia              2011             136072.170   \n",
       "6            Switzerland              2011              54434.480   \n",
       "7                  Spain              2011              52930.850   \n",
       "8                Belgium              2011              39101.050   \n",
       "9                 Sweden              2011              33949.610   \n",
       "10                Norway              2011              31376.340   \n",
       "11                 Japan              2011              27635.550   \n",
       "12              Portugal              2011              26679.690   \n",
       "13               Finland              2011              21433.940   \n",
       "14       Channel Islands              2011              19722.760   \n",
       "15               Denmark              2011              17486.640   \n",
       "16                 Italy              2011              16096.010   \n",
       "17                Cyprus              2011              11355.470   \n",
       "18               Austria              2011               9897.280   \n",
       "19             Singapore              2011               9120.390   \n",
       "20                Israel              2011               7221.690   \n",
       "21                Poland              2011               6964.980   \n",
       "22                Greece              2011               4710.520   \n",
       "23                Canada              2011               3666.380   \n",
       "24               Iceland              2011               3598.210   \n",
       "25           Unspecified              2011               2667.070   \n",
       "26                 Malta              2011               2505.470   \n",
       "27  United Arab Emirates              2011               1902.280   \n",
       "28                   USA              2011               1730.920   \n",
       "29               Lebanon              2011               1693.880   \n",
       "30             Lithuania              2010               1661.060   \n",
       "31    European Community              2011               1291.750   \n",
       "32                Brazil              2011               1143.600   \n",
       "33                   RSA              2011               1002.310   \n",
       "34        Czech Republic              2011                707.720   \n",
       "35               Bahrain              2011                548.400   \n",
       "36          Saudi Arabia              2011                131.170   \n",
       "\n",
       "    YearMejorFrecuenciaInvoices  CantidadYearMejorFrecuenciaInvoices  \n",
       "0                          2011                               455353  \n",
       "1                          2011                                 2299  \n",
       "2                          2011                                 7793  \n",
       "3                          2011                                 8930  \n",
       "4                          2011                                 8118  \n",
       "5                          2011                                 1224  \n",
       "6                          2011                                 1953  \n",
       "7                          2011                                 2458  \n",
       "8                          2011                                 1974  \n",
       "9                          2011                                  435  \n",
       "10                         2011                                  939  \n",
       "11                         2011                                  293  \n",
       "12                         2011                                 1399  \n",
       "13                         2011                                  678  \n",
       "14                         2011                                  741  \n",
       "15                         2011                                  369  \n",
       "16                         2011                                  762  \n",
       "17                         2011                                  539  \n",
       "18                         2011                                  392  \n",
       "19                         2011                                  229  \n",
       "20                         2011                                  295  \n",
       "21                         2011                                  333  \n",
       "22                         2011                                  146  \n",
       "23                         2011                                  151  \n",
       "24                         2011                                  151  \n",
       "25                         2011                                  446  \n",
       "26                         2011                                  127  \n",
       "27                         2011                                   68  \n",
       "28                         2011                                  291  \n",
       "29                         2011                                   45  \n",
       "30                         2010                                   35  \n",
       "31                         2011                                   61  \n",
       "32                         2011                                   32  \n",
       "33                         2011                                   58  \n",
       "34                         2011                                   30  \n",
       "35                         2011                                   18  \n",
       "36                         2011                                   10  "
      ]
     },
     "execution_count": 34,
     "metadata": {},
     "output_type": "execute_result"
    }
   ],
   "source": [
    "mergerd"
   ]
  },
  {
   "cell_type": "markdown",
   "id": "3c210dae-b3d4-427f-b3f8-f3aae4ba91c4",
   "metadata": {},
   "source": [
    "**Ejercicio 2:** Cual es el Top tres por año de los Invoices con mas facturado\n",
    "\n",
    "Ejemplo de como se deberia de ver el dataframe resultante (Recuerde que este es un ejemplo inventado):"
   ]
  },
  {
   "cell_type": "code",
   "execution_count": 35,
   "id": "ab5cae1b-b89b-45ef-9b19-eca935d61211",
   "metadata": {},
   "outputs": [
    {
     "data": {
      "text/html": [
       "<div>\n",
       "<style scoped>\n",
       "    .dataframe tbody tr th:only-of-type {\n",
       "        vertical-align: middle;\n",
       "    }\n",
       "\n",
       "    .dataframe tbody tr th {\n",
       "        vertical-align: top;\n",
       "    }\n",
       "\n",
       "    .dataframe thead th {\n",
       "        text-align: right;\n",
       "    }\n",
       "</style>\n",
       "<table border=\"1\" class=\"dataframe\">\n",
       "  <thead>\n",
       "    <tr style=\"text-align: right;\">\n",
       "      <th></th>\n",
       "      <th>Year</th>\n",
       "      <th>Top</th>\n",
       "      <th>InvoiceNo</th>\n",
       "      <th>TotalInvoice</th>\n",
       "    </tr>\n",
       "  </thead>\n",
       "  <tbody>\n",
       "    <tr>\n",
       "      <th>0</th>\n",
       "      <td>2019</td>\n",
       "      <td>1</td>\n",
       "      <td>536365</td>\n",
       "      <td>30000</td>\n",
       "    </tr>\n",
       "    <tr>\n",
       "      <th>1</th>\n",
       "      <td>2019</td>\n",
       "      <td>2</td>\n",
       "      <td>536999</td>\n",
       "      <td>28000</td>\n",
       "    </tr>\n",
       "    <tr>\n",
       "      <th>2</th>\n",
       "      <td>2019</td>\n",
       "      <td>3</td>\n",
       "      <td>693365</td>\n",
       "      <td>27900</td>\n",
       "    </tr>\n",
       "    <tr>\n",
       "      <th>3</th>\n",
       "      <td>2020</td>\n",
       "      <td>1</td>\n",
       "      <td>24987</td>\n",
       "      <td>29000</td>\n",
       "    </tr>\n",
       "    <tr>\n",
       "      <th>4</th>\n",
       "      <td>2020</td>\n",
       "      <td>2</td>\n",
       "      <td>56832</td>\n",
       "      <td>25000</td>\n",
       "    </tr>\n",
       "    <tr>\n",
       "      <th>5</th>\n",
       "      <td>2020</td>\n",
       "      <td>3</td>\n",
       "      <td>254232</td>\n",
       "      <td>24600</td>\n",
       "    </tr>\n",
       "  </tbody>\n",
       "</table>\n",
       "</div>"
      ],
      "text/plain": [
       "   Year  Top  InvoiceNo  TotalInvoice\n",
       "0  2019    1     536365         30000\n",
       "1  2019    2     536999         28000\n",
       "2  2019    3     693365         27900\n",
       "3  2020    1      24987         29000\n",
       "4  2020    2      56832         25000\n",
       "5  2020    3     254232         24600"
      ]
     },
     "execution_count": 35,
     "metadata": {},
     "output_type": "execute_result"
    }
   ],
   "source": [
    "pd.DataFrame({\n",
    "    \"Year\" : [2019,2019,2019,2020,2020,2020]\n",
    "    , \"Top\" : [1,2,3,1,2,3]\n",
    "    , \"InvoiceNo\" : [536365, 536999, 693365, 24987, 56832, 254232]    \n",
    "    , \"TotalInvoice\": [30000,28000,27900,29000,25000,24600]\n",
    "})"
   ]
  },
  {
   "cell_type": "markdown",
   "id": "3fdb5a72-ecda-4731-b43c-1d3027807a79",
   "metadata": {},
   "source": [
    "*Answer:*"
   ]
  },
  {
   "cell_type": "code",
   "execution_count": 36,
   "id": "dd95f2b7-6487-45a5-8634-68e11823ead6",
   "metadata": {},
   "outputs": [],
   "source": [
    "two = ecommerce.copy()"
   ]
  },
  {
   "cell_type": "code",
   "execution_count": 37,
   "id": "4bc97a9e-0f57-4710-b2d4-a76628f27d0f",
   "metadata": {},
   "outputs": [],
   "source": [
    "two = two.loc[:, ['InvoiceNo', 'year', 'month', 'day', 'SubPrice']]"
   ]
  },
  {
   "cell_type": "code",
   "execution_count": 38,
   "id": "7b1a6342-1d6b-4fea-bcf9-e641c7417c13",
   "metadata": {},
   "outputs": [],
   "source": [
    "two = two.groupby(['InvoiceNo', 'year'], as_index=False).agg({'SubPrice': ['sum']})"
   ]
  },
  {
   "cell_type": "code",
   "execution_count": 39,
   "id": "be783784-6526-4657-92a7-94b3d1d8caa0",
   "metadata": {},
   "outputs": [],
   "source": [
    "two.columns = two.columns.droplevel(1)"
   ]
  },
  {
   "cell_type": "code",
   "execution_count": 40,
   "id": "33b3114c-4edf-4e3e-bbb5-611eb9961da3",
   "metadata": {},
   "outputs": [],
   "source": [
    "two.columns = ['InvoiceNo', 'year', 'TotalInvoice']"
   ]
  },
  {
   "cell_type": "code",
   "execution_count": 41,
   "id": "ff52aad7-d697-40e2-9cd0-fb8dba582685",
   "metadata": {},
   "outputs": [],
   "source": [
    "two = two.sort_values(['year', 'TotalInvoice'], ascending=False)"
   ]
  },
  {
   "cell_type": "code",
   "execution_count": 42,
   "id": "243bd8ba-51dc-4760-a672-4879b5701142",
   "metadata": {},
   "outputs": [],
   "source": [
    "two['top'] = two.groupby(['year'],as_index=False).cumcount()"
   ]
  },
  {
   "cell_type": "code",
   "execution_count": 43,
   "id": "ec1167f5-7bc3-4f24-a3fa-3a5db490cf58",
   "metadata": {},
   "outputs": [],
   "source": [
    "two = two.loc[(two['top'] >= 0) & (two['top'] <= 2),:]"
   ]
  },
  {
   "cell_type": "code",
   "execution_count": 44,
   "id": "b96c36c9-5dcc-401b-8c01-43dd8b85aaae",
   "metadata": {},
   "outputs": [],
   "source": [
    "two = two.loc[:, ['year', 'top', 'InvoiceNo', 'TotalInvoice']]"
   ]
  },
  {
   "cell_type": "code",
   "execution_count": 45,
   "id": "38bcbbc7-f8b8-4b0e-ae82-8e6bf1305c05",
   "metadata": {},
   "outputs": [
    {
     "data": {
      "text/html": [
       "<div>\n",
       "<style scoped>\n",
       "    .dataframe tbody tr th:only-of-type {\n",
       "        vertical-align: middle;\n",
       "    }\n",
       "\n",
       "    .dataframe tbody tr th {\n",
       "        vertical-align: top;\n",
       "    }\n",
       "\n",
       "    .dataframe thead th {\n",
       "        text-align: right;\n",
       "    }\n",
       "</style>\n",
       "<table border=\"1\" class=\"dataframe\">\n",
       "  <thead>\n",
       "    <tr style=\"text-align: right;\">\n",
       "      <th></th>\n",
       "      <th>year</th>\n",
       "      <th>top</th>\n",
       "      <th>InvoiceNo</th>\n",
       "      <th>TotalInvoice</th>\n",
       "    </tr>\n",
       "  </thead>\n",
       "  <tbody>\n",
       "    <tr>\n",
       "      <th>22025</th>\n",
       "      <td>2011</td>\n",
       "      <td>0</td>\n",
       "      <td>581483</td>\n",
       "      <td>168469.60</td>\n",
       "    </tr>\n",
       "    <tr>\n",
       "      <th>2303</th>\n",
       "      <td>2011</td>\n",
       "      <td>1</td>\n",
       "      <td>541431</td>\n",
       "      <td>77183.60</td>\n",
       "    </tr>\n",
       "    <tr>\n",
       "      <th>18776</th>\n",
       "      <td>2011</td>\n",
       "      <td>2</td>\n",
       "      <td>574941</td>\n",
       "      <td>52940.94</td>\n",
       "    </tr>\n",
       "    <tr>\n",
       "      <th>1645</th>\n",
       "      <td>2010</td>\n",
       "      <td>0</td>\n",
       "      <td>539750</td>\n",
       "      <td>18745.86</td>\n",
       "    </tr>\n",
       "    <tr>\n",
       "      <th>674</th>\n",
       "      <td>2010</td>\n",
       "      <td>1</td>\n",
       "      <td>537659</td>\n",
       "      <td>15885.49</td>\n",
       "    </tr>\n",
       "    <tr>\n",
       "      <th>652</th>\n",
       "      <td>2010</td>\n",
       "      <td>2</td>\n",
       "      <td>537632</td>\n",
       "      <td>13541.33</td>\n",
       "    </tr>\n",
       "  </tbody>\n",
       "</table>\n",
       "</div>"
      ],
      "text/plain": [
       "       year  top InvoiceNo  TotalInvoice\n",
       "22025  2011    0    581483     168469.60\n",
       "2303   2011    1    541431      77183.60\n",
       "18776  2011    2    574941      52940.94\n",
       "1645   2010    0    539750      18745.86\n",
       "674    2010    1    537659      15885.49\n",
       "652    2010    2    537632      13541.33"
      ]
     },
     "execution_count": 45,
     "metadata": {},
     "output_type": "execute_result"
    }
   ],
   "source": [
    "two"
   ]
  },
  {
   "cell_type": "markdown",
   "id": "e894a0a7-ca82-496c-8ede-21e238253736",
   "metadata": {},
   "source": [
    "**Ejercicio 3:** Genere el siguiente Dataset para cada uno de los clientes:"
   ]
  },
  {
   "cell_type": "code",
   "execution_count": 46,
   "id": "c441a2a1-eb4c-4338-85b3-282e5c681076",
   "metadata": {},
   "outputs": [
    {
     "data": {
      "text/html": [
       "<div>\n",
       "<style scoped>\n",
       "    .dataframe tbody tr th:only-of-type {\n",
       "        vertical-align: middle;\n",
       "    }\n",
       "\n",
       "    .dataframe tbody tr th {\n",
       "        vertical-align: top;\n",
       "    }\n",
       "\n",
       "    .dataframe thead th {\n",
       "        text-align: right;\n",
       "    }\n",
       "</style>\n",
       "<table border=\"1\" class=\"dataframe\">\n",
       "  <thead>\n",
       "    <tr style=\"text-align: right;\">\n",
       "      <th></th>\n",
       "      <th>CustomerID</th>\n",
       "      <th>YearMonth</th>\n",
       "      <th>TotalValorInvoices</th>\n",
       "      <th>TotalCantidadInvoices</th>\n",
       "      <th>FacturaSiguienteMes</th>\n",
       "    </tr>\n",
       "  </thead>\n",
       "  <tbody>\n",
       "    <tr>\n",
       "      <th>0</th>\n",
       "      <td>111</td>\n",
       "      <td>2019-1</td>\n",
       "      <td>20000</td>\n",
       "      <td>3</td>\n",
       "      <td>1</td>\n",
       "    </tr>\n",
       "    <tr>\n",
       "      <th>1</th>\n",
       "      <td>111</td>\n",
       "      <td>2019-2</td>\n",
       "      <td>22000</td>\n",
       "      <td>2</td>\n",
       "      <td>0</td>\n",
       "    </tr>\n",
       "    <tr>\n",
       "      <th>2</th>\n",
       "      <td>111</td>\n",
       "      <td>2019-3</td>\n",
       "      <td>0</td>\n",
       "      <td>0</td>\n",
       "      <td>1</td>\n",
       "    </tr>\n",
       "  </tbody>\n",
       "</table>\n",
       "</div>"
      ],
      "text/plain": [
       "   CustomerID YearMonth  TotalValorInvoices  TotalCantidadInvoices  \\\n",
       "0         111    2019-1               20000                      3   \n",
       "1         111    2019-2               22000                      2   \n",
       "2         111    2019-3                   0                      0   \n",
       "\n",
       "   FacturaSiguienteMes  \n",
       "0                    1  \n",
       "1                    0  \n",
       "2                    1  "
      ]
     },
     "execution_count": 46,
     "metadata": {},
     "output_type": "execute_result"
    }
   ],
   "source": [
    "pd.DataFrame({\n",
    "    \"CustomerID\" : [111,111,111]\n",
    "    , \"YearMonth\" : [\"2019-1\",\"2019-2\",\"2019-3\"]\n",
    "    , \"TotalValorInvoices\" : [20000,22000,0]    \n",
    "    , \"TotalCantidadInvoices\" : [3,2,0]    \n",
    "    , \"FacturaSiguienteMes\": [1,0,1]\n",
    "})"
   ]
  },
  {
   "cell_type": "markdown",
   "id": "4479e728-d5ce-4513-8289-2a7f74a15243",
   "metadata": {},
   "source": [
    "*Observaciones:*\n",
    "\n",
    "* TotalValorInvoices: La suma del total facturado por todas sus facturas\n",
    "* TotalCantidadInvoices: La cantidad de facturas unicas realizadas en ese mes\n",
    "* FacturaSiguienteMes: Una variable de respuesta que nos dice si al siguiente mes por ese cliente se encontro por lo menos una factura.\n",
    "\n",
    "Note que por la logica de este dataset el ultimo año-mes encontrado en todo el dataset se va a descartar del resultado final por que no se sabe el valor del siguiente mes.\n",
    "\n",
    "*Answer:*"
   ]
  },
  {
   "cell_type": "code",
   "execution_count": 47,
   "id": "f990d2c9-e833-4390-b6cd-a232c9068228",
   "metadata": {},
   "outputs": [],
   "source": [
    "three = ecommerce.copy()"
   ]
  },
  {
   "cell_type": "code",
   "execution_count": 48,
   "id": "0ef38790-2242-4d33-89a8-dd349699e064",
   "metadata": {},
   "outputs": [],
   "source": [
    "three['YearMonth'] = three['year'].astype(str) + '-' + three['month'].astype(str)"
   ]
  },
  {
   "cell_type": "code",
   "execution_count": 49,
   "id": "0fd74042-e43f-4e11-a41a-5a6d3fad6c29",
   "metadata": {},
   "outputs": [],
   "source": [
    "three = three.groupby(['CustomerID', 'YearMonth'], as_index=False).agg({'SubPrice': ['sum'], 'InvoiceNo': ['count']})"
   ]
  },
  {
   "cell_type": "code",
   "execution_count": 50,
   "id": "575053eb-8809-45dd-9c69-50a1c1ce2134",
   "metadata": {},
   "outputs": [],
   "source": [
    "three.columns = three.columns.droplevel(1)"
   ]
  },
  {
   "cell_type": "code",
   "execution_count": 51,
   "id": "78585c45-e216-4cad-92ac-e31bcb6c3170",
   "metadata": {},
   "outputs": [],
   "source": [
    "three.columns = ['CustomerID', 'YearMonth', 'TotalValorInvoice', 'TotalCantidadInvoice']"
   ]
  },
  {
   "cell_type": "code",
   "execution_count": 52,
   "id": "7838141f-f37a-4d01-8419-afc34469b9b8",
   "metadata": {},
   "outputs": [],
   "source": [
    "three ['prevCustomerID'] = three['CustomerID'].shift(-1)"
   ]
  },
  {
   "cell_type": "code",
   "execution_count": 53,
   "id": "8a822891-890d-40c2-8b70-08083b253749",
   "metadata": {},
   "outputs": [],
   "source": [
    "three['FacturaSiguienteMes'] = three.apply(lambda r: 1 if ((r['CustomerID'] == r['prevCustomerID']) & (r['TotalValorInvoice'] > 0.00) | (r['TotalValorInvoice'] < 0.00)) else 0, axis=1)"
   ]
  },
  {
   "cell_type": "code",
   "execution_count": 54,
   "id": "d392fa47-f365-4ed4-abe8-f1a363042f94",
   "metadata": {},
   "outputs": [],
   "source": [
    "three = three.loc[:, ['CustomerID', 'YearMonth', 'TotalValorInvoice', 'TotalCantidadInvoice', 'FacturaSiguienteMes']]"
   ]
  },
  {
   "cell_type": "code",
   "execution_count": 55,
   "id": "17b2101e-3f74-48bb-846e-81c1cf6cc352",
   "metadata": {},
   "outputs": [
    {
     "data": {
      "text/html": [
       "<div>\n",
       "<style scoped>\n",
       "    .dataframe tbody tr th:only-of-type {\n",
       "        vertical-align: middle;\n",
       "    }\n",
       "\n",
       "    .dataframe tbody tr th {\n",
       "        vertical-align: top;\n",
       "    }\n",
       "\n",
       "    .dataframe thead th {\n",
       "        text-align: right;\n",
       "    }\n",
       "</style>\n",
       "<table border=\"1\" class=\"dataframe\">\n",
       "  <thead>\n",
       "    <tr style=\"text-align: right;\">\n",
       "      <th></th>\n",
       "      <th>CustomerID</th>\n",
       "      <th>YearMonth</th>\n",
       "      <th>TotalValorInvoice</th>\n",
       "      <th>TotalCantidadInvoice</th>\n",
       "      <th>FacturaSiguienteMes</th>\n",
       "    </tr>\n",
       "  </thead>\n",
       "  <tbody>\n",
       "    <tr>\n",
       "      <th>0</th>\n",
       "      <td>12346.0</td>\n",
       "      <td>2011-1</td>\n",
       "      <td>0.00</td>\n",
       "      <td>2</td>\n",
       "      <td>0</td>\n",
       "    </tr>\n",
       "    <tr>\n",
       "      <th>1</th>\n",
       "      <td>12347.0</td>\n",
       "      <td>2010-12</td>\n",
       "      <td>711.79</td>\n",
       "      <td>31</td>\n",
       "      <td>1</td>\n",
       "    </tr>\n",
       "    <tr>\n",
       "      <th>2</th>\n",
       "      <td>12347.0</td>\n",
       "      <td>2011-1</td>\n",
       "      <td>475.39</td>\n",
       "      <td>29</td>\n",
       "      <td>1</td>\n",
       "    </tr>\n",
       "    <tr>\n",
       "      <th>3</th>\n",
       "      <td>12347.0</td>\n",
       "      <td>2011-10</td>\n",
       "      <td>1294.32</td>\n",
       "      <td>47</td>\n",
       "      <td>1</td>\n",
       "    </tr>\n",
       "    <tr>\n",
       "      <th>4</th>\n",
       "      <td>12347.0</td>\n",
       "      <td>2011-12</td>\n",
       "      <td>224.82</td>\n",
       "      <td>11</td>\n",
       "      <td>1</td>\n",
       "    </tr>\n",
       "    <tr>\n",
       "      <th>...</th>\n",
       "      <td>...</td>\n",
       "      <td>...</td>\n",
       "      <td>...</td>\n",
       "      <td>...</td>\n",
       "      <td>...</td>\n",
       "    </tr>\n",
       "    <tr>\n",
       "      <th>13670</th>\n",
       "      <td>18283.0</td>\n",
       "      <td>2011-6</td>\n",
       "      <td>307.53</td>\n",
       "      <td>111</td>\n",
       "      <td>1</td>\n",
       "    </tr>\n",
       "    <tr>\n",
       "      <th>13671</th>\n",
       "      <td>18283.0</td>\n",
       "      <td>2011-7</td>\n",
       "      <td>143.19</td>\n",
       "      <td>57</td>\n",
       "      <td>1</td>\n",
       "    </tr>\n",
       "    <tr>\n",
       "      <th>13672</th>\n",
       "      <td>18283.0</td>\n",
       "      <td>2011-9</td>\n",
       "      <td>134.90</td>\n",
       "      <td>47</td>\n",
       "      <td>0</td>\n",
       "    </tr>\n",
       "    <tr>\n",
       "      <th>13673</th>\n",
       "      <td>18287.0</td>\n",
       "      <td>2011-10</td>\n",
       "      <td>1072.00</td>\n",
       "      <td>41</td>\n",
       "      <td>1</td>\n",
       "    </tr>\n",
       "    <tr>\n",
       "      <th>13674</th>\n",
       "      <td>18287.0</td>\n",
       "      <td>2011-5</td>\n",
       "      <td>765.28</td>\n",
       "      <td>29</td>\n",
       "      <td>0</td>\n",
       "    </tr>\n",
       "  </tbody>\n",
       "</table>\n",
       "<p>13675 rows × 5 columns</p>\n",
       "</div>"
      ],
      "text/plain": [
       "       CustomerID YearMonth  TotalValorInvoice  TotalCantidadInvoice  \\\n",
       "0         12346.0    2011-1               0.00                     2   \n",
       "1         12347.0   2010-12             711.79                    31   \n",
       "2         12347.0    2011-1             475.39                    29   \n",
       "3         12347.0   2011-10            1294.32                    47   \n",
       "4         12347.0   2011-12             224.82                    11   \n",
       "...           ...       ...                ...                   ...   \n",
       "13670     18283.0    2011-6             307.53                   111   \n",
       "13671     18283.0    2011-7             143.19                    57   \n",
       "13672     18283.0    2011-9             134.90                    47   \n",
       "13673     18287.0   2011-10            1072.00                    41   \n",
       "13674     18287.0    2011-5             765.28                    29   \n",
       "\n",
       "       FacturaSiguienteMes  \n",
       "0                        0  \n",
       "1                        1  \n",
       "2                        1  \n",
       "3                        1  \n",
       "4                        1  \n",
       "...                    ...  \n",
       "13670                    1  \n",
       "13671                    1  \n",
       "13672                    0  \n",
       "13673                    1  \n",
       "13674                    0  \n",
       "\n",
       "[13675 rows x 5 columns]"
      ]
     },
     "execution_count": 55,
     "metadata": {},
     "output_type": "execute_result"
    }
   ],
   "source": [
    "three"
   ]
  },
  {
   "cell_type": "markdown",
   "id": "d043c4cd-ac71-48c8-917f-b649a7df0f84",
   "metadata": {},
   "source": [
    "**Ejercicio cuatro:** Cual es el top 3 de los productos que menos ingresos generan por Pais del ultimo año encontrado del dataset.\n",
    "\n",
    "Ejemplo de como se deberia de ver el dataframe resultante (Recuerde que este es un ejemplo inventado): "
   ]
  },
  {
   "cell_type": "code",
   "execution_count": 56,
   "id": "ff6a650c-8712-4b8a-b3ed-6e4c35c3c159",
   "metadata": {},
   "outputs": [
    {
     "data": {
      "text/html": [
       "<div>\n",
       "<style scoped>\n",
       "    .dataframe tbody tr th:only-of-type {\n",
       "        vertical-align: middle;\n",
       "    }\n",
       "\n",
       "    .dataframe tbody tr th {\n",
       "        vertical-align: top;\n",
       "    }\n",
       "\n",
       "    .dataframe thead th {\n",
       "        text-align: right;\n",
       "    }\n",
       "</style>\n",
       "<table border=\"1\" class=\"dataframe\">\n",
       "  <thead>\n",
       "    <tr style=\"text-align: right;\">\n",
       "      <th></th>\n",
       "      <th>Country</th>\n",
       "      <th>Top</th>\n",
       "      <th>StockCode</th>\n",
       "      <th>Description</th>\n",
       "      <th>TotalOnInvoices</th>\n",
       "    </tr>\n",
       "  </thead>\n",
       "  <tbody>\n",
       "    <tr>\n",
       "      <th>0</th>\n",
       "      <td>Canada</td>\n",
       "      <td>1</td>\n",
       "      <td>546</td>\n",
       "      <td>Product X</td>\n",
       "      <td>2000</td>\n",
       "    </tr>\n",
       "    <tr>\n",
       "      <th>1</th>\n",
       "      <td>Canada</td>\n",
       "      <td>2</td>\n",
       "      <td>6886</td>\n",
       "      <td>Product K</td>\n",
       "      <td>2100</td>\n",
       "    </tr>\n",
       "    <tr>\n",
       "      <th>2</th>\n",
       "      <td>Canada</td>\n",
       "      <td>3</td>\n",
       "      <td>665</td>\n",
       "      <td>Product J</td>\n",
       "      <td>4000</td>\n",
       "    </tr>\n",
       "    <tr>\n",
       "      <th>3</th>\n",
       "      <td>Spain</td>\n",
       "      <td>1</td>\n",
       "      <td>656</td>\n",
       "      <td>Product C</td>\n",
       "      <td>3000</td>\n",
       "    </tr>\n",
       "    <tr>\n",
       "      <th>4</th>\n",
       "      <td>Spain</td>\n",
       "      <td>2</td>\n",
       "      <td>888</td>\n",
       "      <td>Product D</td>\n",
       "      <td>3800</td>\n",
       "    </tr>\n",
       "    <tr>\n",
       "      <th>5</th>\n",
       "      <td>Spain</td>\n",
       "      <td>3</td>\n",
       "      <td>668</td>\n",
       "      <td>Product U</td>\n",
       "      <td>3900</td>\n",
       "    </tr>\n",
       "  </tbody>\n",
       "</table>\n",
       "</div>"
      ],
      "text/plain": [
       "  Country  Top  StockCode Description  TotalOnInvoices\n",
       "0  Canada    1        546   Product X             2000\n",
       "1  Canada    2       6886   Product K             2100\n",
       "2  Canada    3        665   Product J             4000\n",
       "3   Spain    1        656   Product C             3000\n",
       "4   Spain    2        888   Product D             3800\n",
       "5   Spain    3        668   Product U             3900"
      ]
     },
     "execution_count": 56,
     "metadata": {},
     "output_type": "execute_result"
    }
   ],
   "source": [
    "pd.DataFrame({\n",
    "    \"Country\" : [\"Canada\",\"Canada\",\"Canada\",\"Spain\",\"Spain\",\"Spain\"]\n",
    "    , \"Top\" : [1,2,3,1,2,3]    \n",
    "    , \"StockCode\": [546,6886,665,656,888,668]\n",
    "    , \"Description\": [\"Product X\",\"Product K\",\"Product J\",\"Product C\",\"Product D\",\"Product U\"]\n",
    "    , \"TotalOnInvoices\": [2000,2100,4000,3000,3800,3900]\n",
    "})"
   ]
  },
  {
   "cell_type": "markdown",
   "id": "bb2be3fe-1766-4969-abd5-f60a2908d967",
   "metadata": {},
   "source": [
    "*Answer:*"
   ]
  },
  {
   "cell_type": "code",
   "execution_count": 57,
   "id": "ca027bdd-7bf8-43ac-8a0e-0e0748da5b0d",
   "metadata": {},
   "outputs": [],
   "source": [
    "four = ecommerce.copy()"
   ]
  },
  {
   "cell_type": "code",
   "execution_count": 58,
   "id": "ed8d2e9d-1c6c-44fd-8d8d-ed3fef8ede68",
   "metadata": {},
   "outputs": [],
   "source": [
    "four = four.loc[four['year'] == four['year'].max(),:]"
   ]
  },
  {
   "cell_type": "code",
   "execution_count": 59,
   "id": "923cef5f-6810-4090-a85f-0818353e805b",
   "metadata": {},
   "outputs": [],
   "source": [
    "four = four.groupby(['StockCode', 'Description', 'Country'], as_index=False).agg({'SubPrice': ['sum']})"
   ]
  },
  {
   "cell_type": "code",
   "execution_count": 60,
   "id": "bf719061-a23f-4648-9918-4c9a6d15de71",
   "metadata": {},
   "outputs": [],
   "source": [
    "four.columns = four.columns.droplevel(1)"
   ]
  },
  {
   "cell_type": "code",
   "execution_count": 61,
   "id": "c5bb636e-202a-4a10-8e1f-1e96c00f2243",
   "metadata": {},
   "outputs": [],
   "source": [
    "four.columns = ['StockCode', 'Description', 'Country', 'TotalOnInvoices']"
   ]
  },
  {
   "cell_type": "code",
   "execution_count": 62,
   "id": "e3496e26-a493-4a57-94da-1cc4d504696f",
   "metadata": {},
   "outputs": [],
   "source": [
    "four = four.sort_values(['TotalOnInvoices', 'Country'])"
   ]
  },
  {
   "cell_type": "markdown",
   "id": "1f68df9e-6911-42d2-b7a8-cd23944b785f",
   "metadata": {},
   "source": [
    "**Excluyo resultados negativos en la columna TotalOnInvoices puesto que estos no representan ingresos sino, pérdidas.**"
   ]
  },
  {
   "cell_type": "code",
   "execution_count": 63,
   "id": "51a40607-7723-4b33-b329-6f775dc328b0",
   "metadata": {},
   "outputs": [],
   "source": [
    "four = four.loc[four['TotalOnInvoices'] >= 0,:].copy()"
   ]
  },
  {
   "cell_type": "code",
   "execution_count": 64,
   "id": "509cf760-f705-4273-92f4-39f9856d229b",
   "metadata": {},
   "outputs": [],
   "source": [
    "four['top'] = four.groupby(['Country'],as_index=False).cumcount()"
   ]
  },
  {
   "cell_type": "code",
   "execution_count": 65,
   "id": "e92c8cdd-4f6c-42e1-9f0c-8e83ab880fc0",
   "metadata": {},
   "outputs": [],
   "source": [
    "four = four.loc[(four['top'] >= 0) & (four['top'] <= 2 ), :]"
   ]
  },
  {
   "cell_type": "code",
   "execution_count": 66,
   "id": "8cce6b70-fd7a-4418-8cef-49f4c21661fa",
   "metadata": {},
   "outputs": [],
   "source": [
    "four = four.sort_values(['Country','TotalOnInvoices','top'])"
   ]
  },
  {
   "cell_type": "code",
   "execution_count": 67,
   "id": "5db2b1ed-78c0-4343-8ba8-22897d400e64",
   "metadata": {},
   "outputs": [],
   "source": [
    "four = four.loc[:, ['Country', 'top', 'StockCode', 'Description', 'TotalOnInvoices']]"
   ]
  },
  {
   "cell_type": "code",
   "execution_count": 68,
   "id": "f435c309-2f60-4284-888c-76d842598ad8",
   "metadata": {},
   "outputs": [
    {
     "data": {
      "text/html": [
       "<div>\n",
       "<style scoped>\n",
       "    .dataframe tbody tr th:only-of-type {\n",
       "        vertical-align: middle;\n",
       "    }\n",
       "\n",
       "    .dataframe tbody tr th {\n",
       "        vertical-align: top;\n",
       "    }\n",
       "\n",
       "    .dataframe thead th {\n",
       "        text-align: right;\n",
       "    }\n",
       "</style>\n",
       "<table border=\"1\" class=\"dataframe\">\n",
       "  <thead>\n",
       "    <tr style=\"text-align: right;\">\n",
       "      <th></th>\n",
       "      <th>Country</th>\n",
       "      <th>top</th>\n",
       "      <th>StockCode</th>\n",
       "      <th>Description</th>\n",
       "      <th>TotalOnInvoices</th>\n",
       "    </tr>\n",
       "  </thead>\n",
       "  <tbody>\n",
       "    <tr>\n",
       "      <th>6098</th>\n",
       "      <td>Australia</td>\n",
       "      <td>0</td>\n",
       "      <td>22232</td>\n",
       "      <td>JIGSAW TOADSTOOLS 3 PIECE</td>\n",
       "      <td>0.00</td>\n",
       "    </tr>\n",
       "    <tr>\n",
       "      <th>9872</th>\n",
       "      <td>Australia</td>\n",
       "      <td>1</td>\n",
       "      <td>22738</td>\n",
       "      <td>RIBBON REEL SNOWY VILLAGE</td>\n",
       "      <td>0.00</td>\n",
       "    </tr>\n",
       "    <tr>\n",
       "      <th>11822</th>\n",
       "      <td>Australia</td>\n",
       "      <td>2</td>\n",
       "      <td>22990</td>\n",
       "      <td>COTTON APRON PANTRY DESIGN</td>\n",
       "      <td>0.00</td>\n",
       "    </tr>\n",
       "    <tr>\n",
       "      <th>2697</th>\n",
       "      <td>Austria</td>\n",
       "      <td>0</td>\n",
       "      <td>21402</td>\n",
       "      <td>RED  EGG  SPOON</td>\n",
       "      <td>2.88</td>\n",
       "    </tr>\n",
       "    <tr>\n",
       "      <th>2704</th>\n",
       "      <td>Austria</td>\n",
       "      <td>1</td>\n",
       "      <td>21403</td>\n",
       "      <td>BLUE EGG  SPOON</td>\n",
       "      <td>2.88</td>\n",
       "    </tr>\n",
       "    <tr>\n",
       "      <th>...</th>\n",
       "      <td>...</td>\n",
       "      <td>...</td>\n",
       "      <td>...</td>\n",
       "      <td>...</td>\n",
       "      <td>...</td>\n",
       "    </tr>\n",
       "    <tr>\n",
       "      <th>22</th>\n",
       "      <td>United Kingdom</td>\n",
       "      <td>1</td>\n",
       "      <td>10133</td>\n",
       "      <td>damaged</td>\n",
       "      <td>0.00</td>\n",
       "    </tr>\n",
       "    <tr>\n",
       "      <th>112</th>\n",
       "      <td>United Kingdom</td>\n",
       "      <td>2</td>\n",
       "      <td>15058A</td>\n",
       "      <td>wet/rusty</td>\n",
       "      <td>0.00</td>\n",
       "    </tr>\n",
       "    <tr>\n",
       "      <th>17305</th>\n",
       "      <td>Unspecified</td>\n",
       "      <td>0</td>\n",
       "      <td>79063C</td>\n",
       "      <td>RETRO PILL BOX KEY CHAIN,THE KING</td>\n",
       "      <td>0.19</td>\n",
       "    </tr>\n",
       "    <tr>\n",
       "      <th>7118</th>\n",
       "      <td>Unspecified</td>\n",
       "      <td>1</td>\n",
       "      <td>22396</td>\n",
       "      <td>MAGNETS PACK OF 4 RETRO PHOTO</td>\n",
       "      <td>0.39</td>\n",
       "    </tr>\n",
       "    <tr>\n",
       "      <th>16646</th>\n",
       "      <td>Unspecified</td>\n",
       "      <td>2</td>\n",
       "      <td>47348A</td>\n",
       "      <td>FUSCHIA VOILE POINTY SHOE DEC</td>\n",
       "      <td>0.39</td>\n",
       "    </tr>\n",
       "  </tbody>\n",
       "</table>\n",
       "<p>111 rows × 5 columns</p>\n",
       "</div>"
      ],
      "text/plain": [
       "              Country  top StockCode                        Description  \\\n",
       "6098        Australia    0     22232          JIGSAW TOADSTOOLS 3 PIECE   \n",
       "9872        Australia    1     22738          RIBBON REEL SNOWY VILLAGE   \n",
       "11822       Australia    2     22990         COTTON APRON PANTRY DESIGN   \n",
       "2697          Austria    0     21402                    RED  EGG  SPOON   \n",
       "2704          Austria    1     21403                    BLUE EGG  SPOON   \n",
       "...               ...  ...       ...                                ...   \n",
       "22     United Kingdom    1     10133                            damaged   \n",
       "112    United Kingdom    2    15058A                          wet/rusty   \n",
       "17305     Unspecified    0    79063C  RETRO PILL BOX KEY CHAIN,THE KING   \n",
       "7118      Unspecified    1     22396      MAGNETS PACK OF 4 RETRO PHOTO   \n",
       "16646     Unspecified    2    47348A      FUSCHIA VOILE POINTY SHOE DEC   \n",
       "\n",
       "       TotalOnInvoices  \n",
       "6098              0.00  \n",
       "9872              0.00  \n",
       "11822             0.00  \n",
       "2697              2.88  \n",
       "2704              2.88  \n",
       "...                ...  \n",
       "22                0.00  \n",
       "112               0.00  \n",
       "17305             0.19  \n",
       "7118              0.39  \n",
       "16646             0.39  \n",
       "\n",
       "[111 rows x 5 columns]"
      ]
     },
     "execution_count": 68,
     "metadata": {},
     "output_type": "execute_result"
    }
   ],
   "source": [
    "four"
   ]
  }
 ],
 "metadata": {
  "kernelspec": {
   "display_name": "Python 3 (ipykernel)",
   "language": "python",
   "name": "python3"
  },
  "language_info": {
   "codemirror_mode": {
    "name": "ipython",
    "version": 3
   },
   "file_extension": ".py",
   "mimetype": "text/x-python",
   "name": "python",
   "nbconvert_exporter": "python",
   "pygments_lexer": "ipython3",
   "version": "3.9.12"
  }
 },
 "nbformat": 4,
 "nbformat_minor": 5
}
